{
  "nbformat": 4,
  "nbformat_minor": 0,
  "metadata": {
    "colab": {
      "provenance": [],
      "toc_visible": true,
      "authorship_tag": "ABX9TyO53m+1jnXqtLIHmrYyFrWd",
      "include_colab_link": true
    },
    "kernelspec": {
      "name": "python3",
      "display_name": "Python 3"
    },
    "language_info": {
      "name": "python"
    }
  },
  "cells": [
    {
      "cell_type": "markdown",
      "metadata": {
        "id": "view-in-github",
        "colab_type": "text"
      },
      "source": [
        "<a href=\"https://colab.research.google.com/github/anjishnum/Crop_Monitoring_File_manipulation/blob/main/files_reading.ipynb\" target=\"_parent\"><img src=\"https://colab.research.google.com/assets/colab-badge.svg\" alt=\"Open In Colab\"/></a>"
      ]
    },
    {
      "cell_type": "code",
      "execution_count": 1,
      "metadata": {
        "colab": {
          "base_uri": "https://localhost:8080/"
        },
        "id": "fwZPZm0g3GLE",
        "outputId": "6415c5de-70e1-4a3d-82a2-e22de352e934"
      },
      "outputs": [
        {
          "output_type": "stream",
          "name": "stdout",
          "text": [
            "Mounted at /content/drive/\n"
          ]
        }
      ],
      "source": [
        "from google.colab import drive\n",
        "drive.mount('/content/drive/')"
      ]
    },
    {
      "cell_type": "code",
      "source": [
        "import pandas as pd\n",
        "import numpy as np\n",
        "import csv\n",
        "import os\n",
        "import seaborn as sns\n",
        "import shutil\n",
        "import re"
      ],
      "metadata": {
        "id": "n_A-CeXT3Jtn"
      },
      "execution_count": 34,
      "outputs": []
    },
    {
      "cell_type": "code",
      "source": [
        "def replace_line(file_name, line_num, text):\n",
        "  lines = open(file_name, 'r').readlines()\n",
        "  lines[line_num] = text\n",
        "  out = open(file_name, 'w')\n",
        "  out.writelines(lines)\n",
        "  out.close()"
      ],
      "metadata": {
        "id": "sAUYU8oqF1LJ"
      },
      "execution_count": 5,
      "outputs": []
    },
    {
      "cell_type": "code",
      "source": [
        "def copy_files(filelist):\n",
        "  src = os.getcwd()+'/'\n",
        "  trg = os.getcwd()+'/newfiles/'\n",
        " \n",
        "  for filename in filelist:\n",
        "      \n",
        "    shutil.copy2(os.path.join(src,filename), trg)\n",
        "    print(filename)"
      ],
      "metadata": {
        "id": "Wq3-wUc8KWLa"
      },
      "execution_count": 13,
      "outputs": []
    },
    {
      "cell_type": "markdown",
      "source": [
        "# 60%"
      ],
      "metadata": {
        "id": "qUgurzhQdOQd"
      }
    },
    {
      "cell_type": "markdown",
      "source": [
        "## Nitrate"
      ],
      "metadata": {
        "id": "tKDy1EHWebXq"
      }
    },
    {
      "cell_type": "code",
      "source": [
        "os.chdir('/content/drive/MyDrive/Copy_M_W_CSV/M_W_60%/Nitrate')\n",
        "try:\n",
        "  os.mkdir('newfiles')\n",
        "except FileExistsError:\n",
        "  pass\n",
        "\n",
        "filelist = sorted(os.listdir())"
      ],
      "metadata": {
        "id": "kbPN-5d3alU7"
      },
      "execution_count": 38,
      "outputs": []
    },
    {
      "cell_type": "code",
      "source": [
        "filelist"
      ],
      "metadata": {
        "colab": {
          "base_uri": "https://localhost:8080/"
        },
        "id": "ljhCxej4Mp6v",
        "outputId": "cd20e335-eefb-430d-f89a-969618768354"
      },
      "execution_count": 39,
      "outputs": [
        {
          "output_type": "execute_result",
          "data": {
            "text/plain": [
              "['Maize Wheat60_N.csv',\n",
              " 'Maize Wheat60_N1.csv',\n",
              " 'Maize Wheat60_N10.csv',\n",
              " 'Maize Wheat60_N11.csv',\n",
              " 'Maize Wheat60_N12.csv',\n",
              " 'Maize Wheat60_N13.csv',\n",
              " 'Maize Wheat60_N14.csv',\n",
              " 'Maize Wheat60_N15.csv',\n",
              " 'Maize Wheat60_N16.csv',\n",
              " 'Maize Wheat60_N17.csv',\n",
              " 'Maize Wheat60_N18.csv',\n",
              " 'Maize Wheat60_N19.csv',\n",
              " 'Maize Wheat60_N2.csv',\n",
              " 'Maize Wheat60_N20.csv',\n",
              " 'Maize Wheat60_N21.csv',\n",
              " 'Maize Wheat60_N22.csv',\n",
              " 'Maize Wheat60_N23.csv',\n",
              " 'Maize Wheat60_N24.csv',\n",
              " 'Maize Wheat60_N25.csv',\n",
              " 'Maize Wheat60_N26.csv',\n",
              " 'Maize Wheat60_N27.csv',\n",
              " 'Maize Wheat60_N28.csv',\n",
              " 'Maize Wheat60_N29.csv',\n",
              " 'Maize Wheat60_N3.csv',\n",
              " 'Maize Wheat60_N30.csv',\n",
              " 'Maize Wheat60_N31.csv',\n",
              " 'Maize Wheat60_N32.csv',\n",
              " 'Maize Wheat60_N33.csv',\n",
              " 'Maize Wheat60_N34.csv',\n",
              " 'Maize Wheat60_N35.csv',\n",
              " 'Maize Wheat60_N36.csv',\n",
              " 'Maize Wheat60_N37.csv',\n",
              " 'Maize Wheat60_N38.csv',\n",
              " 'Maize Wheat60_N39.csv',\n",
              " 'Maize Wheat60_N4.csv',\n",
              " 'Maize Wheat60_N40.csv',\n",
              " 'Maize Wheat60_N41.csv',\n",
              " 'Maize Wheat60_N42.csv',\n",
              " 'Maize Wheat60_N43.csv',\n",
              " 'Maize Wheat60_N44.csv',\n",
              " 'Maize Wheat60_N45.csv',\n",
              " 'Maize Wheat60_N46.csv',\n",
              " 'Maize Wheat60_N47.csv',\n",
              " 'Maize Wheat60_N48.csv',\n",
              " 'Maize Wheat60_N49.csv',\n",
              " 'Maize Wheat60_N5.csv',\n",
              " 'Maize Wheat60_N50.csv',\n",
              " 'Maize Wheat60_N51.csv',\n",
              " 'Maize Wheat60_N52.csv',\n",
              " 'Maize Wheat60_N53.csv',\n",
              " 'Maize Wheat60_N54.csv',\n",
              " 'Maize Wheat60_N55.csv',\n",
              " 'Maize Wheat60_N56.csv',\n",
              " 'Maize Wheat60_N57.csv',\n",
              " 'Maize Wheat60_N58.csv',\n",
              " 'Maize Wheat60_N59.csv',\n",
              " 'Maize Wheat60_N6.csv',\n",
              " 'Maize Wheat60_N60.csv',\n",
              " 'Maize Wheat60_N61.csv',\n",
              " 'Maize Wheat60_N62.csv',\n",
              " 'Maize Wheat60_N63.csv',\n",
              " 'Maize Wheat60_N64.csv',\n",
              " 'Maize Wheat60_N65.csv',\n",
              " 'Maize Wheat60_N66.csv',\n",
              " 'Maize Wheat60_N67.csv',\n",
              " 'Maize Wheat60_N68.csv',\n",
              " 'Maize Wheat60_N69.csv',\n",
              " 'Maize Wheat60_N7.csv',\n",
              " 'Maize Wheat60_N70.csv',\n",
              " 'Maize Wheat60_N71.csv',\n",
              " 'Maize Wheat60_N72.csv',\n",
              " 'Maize Wheat60_N73.csv',\n",
              " 'Maize Wheat60_N74.csv',\n",
              " 'Maize Wheat60_N75.csv',\n",
              " 'Maize Wheat60_N76.csv',\n",
              " 'Maize Wheat60_N77.csv',\n",
              " 'Maize Wheat60_N78.csv',\n",
              " 'Maize Wheat60_N79.csv',\n",
              " 'Maize Wheat60_N8.csv',\n",
              " 'Maize Wheat60_N80.csv',\n",
              " 'Maize Wheat60_N81.csv',\n",
              " 'Maize Wheat60_N82.csv',\n",
              " 'Maize Wheat60_N83.csv',\n",
              " 'Maize Wheat60_N84.csv',\n",
              " 'Maize Wheat60_N85.csv',\n",
              " 'Maize Wheat60_N86.csv',\n",
              " 'Maize Wheat60_N87.csv',\n",
              " 'Maize Wheat60_N88.csv',\n",
              " 'Maize Wheat60_N89.csv',\n",
              " 'Maize Wheat60_N9.csv',\n",
              " 'Maize Wheat60_N90.csv',\n",
              " 'Maize Wheat60_N91.csv',\n",
              " 'Maize Wheat60_N92.csv',\n",
              " 'Maize Wheat60_N93.csv',\n",
              " 'Maize Wheat60_N94.csv',\n",
              " 'Maize Wheat60_N95.csv',\n",
              " 'Maize Wheat60_N96.csv',\n",
              " 'Maize Wheat60_N97.csv',\n",
              " 'Maize Wheat60_N98.csv',\n",
              " 'Maize Wheat60_N99.csv',\n",
              " 'newfiles']"
            ]
          },
          "metadata": {},
          "execution_count": 39
        }
      ]
    },
    {
      "cell_type": "code",
      "source": [
        "copy_files(filelist[:-1:])"
      ],
      "metadata": {
        "colab": {
          "base_uri": "https://localhost:8080/"
        },
        "id": "k69qwy9FMD4C",
        "outputId": "d9c6e9ff-6e41-4637-ceb9-91db9c7c5d61"
      },
      "execution_count": 40,
      "outputs": [
        {
          "output_type": "stream",
          "name": "stdout",
          "text": [
            "Maize Wheat60_N.csv\n",
            "Maize Wheat60_N1.csv\n",
            "Maize Wheat60_N10.csv\n",
            "Maize Wheat60_N11.csv\n",
            "Maize Wheat60_N12.csv\n",
            "Maize Wheat60_N13.csv\n",
            "Maize Wheat60_N14.csv\n",
            "Maize Wheat60_N15.csv\n",
            "Maize Wheat60_N16.csv\n",
            "Maize Wheat60_N17.csv\n",
            "Maize Wheat60_N18.csv\n",
            "Maize Wheat60_N19.csv\n",
            "Maize Wheat60_N2.csv\n",
            "Maize Wheat60_N20.csv\n",
            "Maize Wheat60_N21.csv\n",
            "Maize Wheat60_N22.csv\n",
            "Maize Wheat60_N23.csv\n",
            "Maize Wheat60_N24.csv\n",
            "Maize Wheat60_N25.csv\n",
            "Maize Wheat60_N26.csv\n",
            "Maize Wheat60_N27.csv\n",
            "Maize Wheat60_N28.csv\n",
            "Maize Wheat60_N29.csv\n",
            "Maize Wheat60_N3.csv\n",
            "Maize Wheat60_N30.csv\n",
            "Maize Wheat60_N31.csv\n",
            "Maize Wheat60_N32.csv\n",
            "Maize Wheat60_N33.csv\n",
            "Maize Wheat60_N34.csv\n",
            "Maize Wheat60_N35.csv\n",
            "Maize Wheat60_N36.csv\n",
            "Maize Wheat60_N37.csv\n",
            "Maize Wheat60_N38.csv\n",
            "Maize Wheat60_N39.csv\n",
            "Maize Wheat60_N4.csv\n",
            "Maize Wheat60_N40.csv\n",
            "Maize Wheat60_N41.csv\n",
            "Maize Wheat60_N42.csv\n",
            "Maize Wheat60_N43.csv\n",
            "Maize Wheat60_N44.csv\n",
            "Maize Wheat60_N45.csv\n",
            "Maize Wheat60_N46.csv\n",
            "Maize Wheat60_N47.csv\n",
            "Maize Wheat60_N48.csv\n",
            "Maize Wheat60_N49.csv\n",
            "Maize Wheat60_N5.csv\n",
            "Maize Wheat60_N50.csv\n",
            "Maize Wheat60_N51.csv\n",
            "Maize Wheat60_N52.csv\n",
            "Maize Wheat60_N53.csv\n",
            "Maize Wheat60_N54.csv\n",
            "Maize Wheat60_N55.csv\n",
            "Maize Wheat60_N56.csv\n",
            "Maize Wheat60_N57.csv\n",
            "Maize Wheat60_N58.csv\n",
            "Maize Wheat60_N59.csv\n",
            "Maize Wheat60_N6.csv\n",
            "Maize Wheat60_N60.csv\n",
            "Maize Wheat60_N61.csv\n",
            "Maize Wheat60_N62.csv\n",
            "Maize Wheat60_N63.csv\n",
            "Maize Wheat60_N64.csv\n",
            "Maize Wheat60_N65.csv\n",
            "Maize Wheat60_N66.csv\n",
            "Maize Wheat60_N67.csv\n",
            "Maize Wheat60_N68.csv\n",
            "Maize Wheat60_N69.csv\n",
            "Maize Wheat60_N7.csv\n",
            "Maize Wheat60_N70.csv\n",
            "Maize Wheat60_N71.csv\n",
            "Maize Wheat60_N72.csv\n",
            "Maize Wheat60_N73.csv\n",
            "Maize Wheat60_N74.csv\n",
            "Maize Wheat60_N75.csv\n",
            "Maize Wheat60_N76.csv\n",
            "Maize Wheat60_N77.csv\n",
            "Maize Wheat60_N78.csv\n",
            "Maize Wheat60_N79.csv\n",
            "Maize Wheat60_N8.csv\n",
            "Maize Wheat60_N80.csv\n",
            "Maize Wheat60_N81.csv\n",
            "Maize Wheat60_N82.csv\n",
            "Maize Wheat60_N83.csv\n",
            "Maize Wheat60_N84.csv\n",
            "Maize Wheat60_N85.csv\n",
            "Maize Wheat60_N86.csv\n",
            "Maize Wheat60_N87.csv\n",
            "Maize Wheat60_N88.csv\n",
            "Maize Wheat60_N89.csv\n",
            "Maize Wheat60_N9.csv\n",
            "Maize Wheat60_N90.csv\n",
            "Maize Wheat60_N91.csv\n",
            "Maize Wheat60_N92.csv\n",
            "Maize Wheat60_N93.csv\n",
            "Maize Wheat60_N94.csv\n",
            "Maize Wheat60_N95.csv\n",
            "Maize Wheat60_N96.csv\n",
            "Maize Wheat60_N97.csv\n",
            "Maize Wheat60_N98.csv\n",
            "Maize Wheat60_N99.csv\n"
          ]
        }
      ]
    },
    {
      "cell_type": "markdown",
      "source": [
        "### For N"
      ],
      "metadata": {
        "id": "pgI7rqmDp2IZ"
      }
    },
    {
      "cell_type": "code",
      "source": [
        "filename = filelist[0]\n",
        "\n",
        "c = 0\n",
        "\n",
        "for i in range(3):\n",
        "  if i<2:\n",
        "    replace_line(os.getcwd()+'/'+filename, c, '')\n",
        "  else:\n",
        "    replace_line(os.getcwd()+'/'+filename, c+1, '')\n",
        "\n",
        "df = pd.read_csv(os.getcwd()+'/'+filelist[0])\n",
        "\n",
        "del df[df.columns[-1]]\n",
        "\n",
        "df_new = pd.DataFrame()\n",
        "\n",
        "for yr in range(1980,2010):\n",
        "  df_new['N'+str(yr)] = pd.Series(list(df[df['year']==yr].iloc[:,2]))\n",
        "\n",
        "df_new.to_csv(os.getcwd()+'/newfiles/'+filelist[0],index=False)"
      ],
      "metadata": {
        "id": "PWmi1sku4nqm"
      },
      "execution_count": 12,
      "outputs": []
    },
    {
      "cell_type": "markdown",
      "source": [
        "### For Nx"
      ],
      "metadata": {
        "id": "0pGeCAHIutL7"
      }
    },
    {
      "cell_type": "code",
      "source": [
        "os.chdir(os.getcwd()+'/newfiles/')\n",
        "filelist = os.listdir()"
      ],
      "metadata": {
        "id": "DvPk9XLJ4OgV"
      },
      "execution_count": 17,
      "outputs": []
    },
    {
      "cell_type": "code",
      "source": [
        "for filename in filelist[1:2:]:\n",
        "  c = 0\n",
        "  \n",
        "  for i in range(3):\n",
        "    if i<2:\n",
        "      replace_line(os.getcwd()+'/'+filename, c, '')\n",
        "    else:\n",
        "      replace_line(os.getcwd()+'/'+filename, c+1, '')\n",
        "  \n",
        "  df = pd.read_csv(os.getcwd()+'/newfiles/'+filename)\n",
        "\n",
        "  print(df)\n"
      ],
      "metadata": {
        "colab": {
          "base_uri": "https://localhost:8080/",
          "height": 293
        },
        "id": "L6N5wrRNu5ZE",
        "outputId": "b228df03-6f39-4118-b3f5-fdab87178b9d"
      },
      "execution_count": 46,
      "outputs": [
        {
          "output_type": "error",
          "ename": "ParserError",
          "evalue": "ignored",
          "traceback": [
            "\u001b[0;31m---------------------------------------------------------------------------\u001b[0m",
            "\u001b[0;31mParserError\u001b[0m                               Traceback (most recent call last)",
            "\u001b[0;32m<ipython-input-46-d34d48c12f23>\u001b[0m in \u001b[0;36m<module>\u001b[0;34m\u001b[0m\n\u001b[1;32m      8\u001b[0m       \u001b[0mreplace_line\u001b[0m\u001b[0;34m(\u001b[0m\u001b[0mos\u001b[0m\u001b[0;34m.\u001b[0m\u001b[0mgetcwd\u001b[0m\u001b[0;34m(\u001b[0m\u001b[0;34m)\u001b[0m\u001b[0;34m+\u001b[0m\u001b[0;34m'/'\u001b[0m\u001b[0;34m+\u001b[0m\u001b[0mfilename\u001b[0m\u001b[0;34m,\u001b[0m \u001b[0mc\u001b[0m\u001b[0;34m+\u001b[0m\u001b[0;36m1\u001b[0m\u001b[0;34m,\u001b[0m \u001b[0;34m''\u001b[0m\u001b[0;34m)\u001b[0m\u001b[0;34m\u001b[0m\u001b[0;34m\u001b[0m\u001b[0m\n\u001b[1;32m      9\u001b[0m \u001b[0;34m\u001b[0m\u001b[0m\n\u001b[0;32m---> 10\u001b[0;31m   \u001b[0mdf\u001b[0m \u001b[0;34m=\u001b[0m \u001b[0mpd\u001b[0m\u001b[0;34m.\u001b[0m\u001b[0mread_csv\u001b[0m\u001b[0;34m(\u001b[0m\u001b[0mos\u001b[0m\u001b[0;34m.\u001b[0m\u001b[0mgetcwd\u001b[0m\u001b[0;34m(\u001b[0m\u001b[0;34m)\u001b[0m\u001b[0;34m+\u001b[0m\u001b[0;34m'/newfiles/'\u001b[0m\u001b[0;34m+\u001b[0m\u001b[0mfilename\u001b[0m\u001b[0;34m)\u001b[0m\u001b[0;34m\u001b[0m\u001b[0;34m\u001b[0m\u001b[0m\n\u001b[0m\u001b[1;32m     11\u001b[0m \u001b[0;34m\u001b[0m\u001b[0m\n\u001b[1;32m     12\u001b[0m   \u001b[0mprint\u001b[0m\u001b[0;34m(\u001b[0m\u001b[0mdf\u001b[0m\u001b[0;34m)\u001b[0m\u001b[0;34m\u001b[0m\u001b[0;34m\u001b[0m\u001b[0m\n",
            "\u001b[0;32m/usr/local/lib/python3.9/dist-packages/pandas/util/_decorators.py\u001b[0m in \u001b[0;36mwrapper\u001b[0;34m(*args, **kwargs)\u001b[0m\n\u001b[1;32m    309\u001b[0m                     \u001b[0mstacklevel\u001b[0m\u001b[0;34m=\u001b[0m\u001b[0mstacklevel\u001b[0m\u001b[0;34m,\u001b[0m\u001b[0;34m\u001b[0m\u001b[0;34m\u001b[0m\u001b[0m\n\u001b[1;32m    310\u001b[0m                 )\n\u001b[0;32m--> 311\u001b[0;31m             \u001b[0;32mreturn\u001b[0m \u001b[0mfunc\u001b[0m\u001b[0;34m(\u001b[0m\u001b[0;34m*\u001b[0m\u001b[0margs\u001b[0m\u001b[0;34m,\u001b[0m \u001b[0;34m**\u001b[0m\u001b[0mkwargs\u001b[0m\u001b[0;34m)\u001b[0m\u001b[0;34m\u001b[0m\u001b[0;34m\u001b[0m\u001b[0m\n\u001b[0m\u001b[1;32m    312\u001b[0m \u001b[0;34m\u001b[0m\u001b[0m\n\u001b[1;32m    313\u001b[0m         \u001b[0;32mreturn\u001b[0m \u001b[0mwrapper\u001b[0m\u001b[0;34m\u001b[0m\u001b[0;34m\u001b[0m\u001b[0m\n",
            "\u001b[0;32m/usr/local/lib/python3.9/dist-packages/pandas/io/parsers/readers.py\u001b[0m in \u001b[0;36mread_csv\u001b[0;34m(filepath_or_buffer, sep, delimiter, header, names, index_col, usecols, squeeze, prefix, mangle_dupe_cols, dtype, engine, converters, true_values, false_values, skipinitialspace, skiprows, skipfooter, nrows, na_values, keep_default_na, na_filter, verbose, skip_blank_lines, parse_dates, infer_datetime_format, keep_date_col, date_parser, dayfirst, cache_dates, iterator, chunksize, compression, thousands, decimal, lineterminator, quotechar, quoting, doublequote, escapechar, comment, encoding, encoding_errors, dialect, error_bad_lines, warn_bad_lines, on_bad_lines, delim_whitespace, low_memory, memory_map, float_precision, storage_options)\u001b[0m\n\u001b[1;32m    676\u001b[0m     \u001b[0mkwds\u001b[0m\u001b[0;34m.\u001b[0m\u001b[0mupdate\u001b[0m\u001b[0;34m(\u001b[0m\u001b[0mkwds_defaults\u001b[0m\u001b[0;34m)\u001b[0m\u001b[0;34m\u001b[0m\u001b[0;34m\u001b[0m\u001b[0m\n\u001b[1;32m    677\u001b[0m \u001b[0;34m\u001b[0m\u001b[0m\n\u001b[0;32m--> 678\u001b[0;31m     \u001b[0;32mreturn\u001b[0m \u001b[0m_read\u001b[0m\u001b[0;34m(\u001b[0m\u001b[0mfilepath_or_buffer\u001b[0m\u001b[0;34m,\u001b[0m \u001b[0mkwds\u001b[0m\u001b[0;34m)\u001b[0m\u001b[0;34m\u001b[0m\u001b[0;34m\u001b[0m\u001b[0m\n\u001b[0m\u001b[1;32m    679\u001b[0m \u001b[0;34m\u001b[0m\u001b[0m\n\u001b[1;32m    680\u001b[0m \u001b[0;34m\u001b[0m\u001b[0m\n",
            "\u001b[0;32m/usr/local/lib/python3.9/dist-packages/pandas/io/parsers/readers.py\u001b[0m in \u001b[0;36m_read\u001b[0;34m(filepath_or_buffer, kwds)\u001b[0m\n\u001b[1;32m    579\u001b[0m \u001b[0;34m\u001b[0m\u001b[0m\n\u001b[1;32m    580\u001b[0m     \u001b[0;32mwith\u001b[0m \u001b[0mparser\u001b[0m\u001b[0;34m:\u001b[0m\u001b[0;34m\u001b[0m\u001b[0;34m\u001b[0m\u001b[0m\n\u001b[0;32m--> 581\u001b[0;31m         \u001b[0;32mreturn\u001b[0m \u001b[0mparser\u001b[0m\u001b[0;34m.\u001b[0m\u001b[0mread\u001b[0m\u001b[0;34m(\u001b[0m\u001b[0mnrows\u001b[0m\u001b[0;34m)\u001b[0m\u001b[0;34m\u001b[0m\u001b[0;34m\u001b[0m\u001b[0m\n\u001b[0m\u001b[1;32m    582\u001b[0m \u001b[0;34m\u001b[0m\u001b[0m\n\u001b[1;32m    583\u001b[0m \u001b[0;34m\u001b[0m\u001b[0m\n",
            "\u001b[0;32m/usr/local/lib/python3.9/dist-packages/pandas/io/parsers/readers.py\u001b[0m in \u001b[0;36mread\u001b[0;34m(self, nrows)\u001b[0m\n\u001b[1;32m   1251\u001b[0m             \u001b[0mnrows\u001b[0m \u001b[0;34m=\u001b[0m \u001b[0mvalidate_integer\u001b[0m\u001b[0;34m(\u001b[0m\u001b[0;34m\"nrows\"\u001b[0m\u001b[0;34m,\u001b[0m \u001b[0mnrows\u001b[0m\u001b[0;34m)\u001b[0m\u001b[0;34m\u001b[0m\u001b[0;34m\u001b[0m\u001b[0m\n\u001b[1;32m   1252\u001b[0m             \u001b[0;32mtry\u001b[0m\u001b[0;34m:\u001b[0m\u001b[0;34m\u001b[0m\u001b[0;34m\u001b[0m\u001b[0m\n\u001b[0;32m-> 1253\u001b[0;31m                 \u001b[0mindex\u001b[0m\u001b[0;34m,\u001b[0m \u001b[0mcolumns\u001b[0m\u001b[0;34m,\u001b[0m \u001b[0mcol_dict\u001b[0m \u001b[0;34m=\u001b[0m \u001b[0mself\u001b[0m\u001b[0;34m.\u001b[0m\u001b[0m_engine\u001b[0m\u001b[0;34m.\u001b[0m\u001b[0mread\u001b[0m\u001b[0;34m(\u001b[0m\u001b[0mnrows\u001b[0m\u001b[0;34m)\u001b[0m\u001b[0;34m\u001b[0m\u001b[0;34m\u001b[0m\u001b[0m\n\u001b[0m\u001b[1;32m   1254\u001b[0m             \u001b[0;32mexcept\u001b[0m \u001b[0mException\u001b[0m\u001b[0;34m:\u001b[0m\u001b[0;34m\u001b[0m\u001b[0;34m\u001b[0m\u001b[0m\n\u001b[1;32m   1255\u001b[0m                 \u001b[0mself\u001b[0m\u001b[0;34m.\u001b[0m\u001b[0mclose\u001b[0m\u001b[0;34m(\u001b[0m\u001b[0;34m)\u001b[0m\u001b[0;34m\u001b[0m\u001b[0;34m\u001b[0m\u001b[0m\n",
            "\u001b[0;32m/usr/local/lib/python3.9/dist-packages/pandas/io/parsers/c_parser_wrapper.py\u001b[0m in \u001b[0;36mread\u001b[0;34m(self, nrows)\u001b[0m\n\u001b[1;32m    223\u001b[0m         \u001b[0;32mtry\u001b[0m\u001b[0;34m:\u001b[0m\u001b[0;34m\u001b[0m\u001b[0;34m\u001b[0m\u001b[0m\n\u001b[1;32m    224\u001b[0m             \u001b[0;32mif\u001b[0m \u001b[0mself\u001b[0m\u001b[0;34m.\u001b[0m\u001b[0mlow_memory\u001b[0m\u001b[0;34m:\u001b[0m\u001b[0;34m\u001b[0m\u001b[0;34m\u001b[0m\u001b[0m\n\u001b[0;32m--> 225\u001b[0;31m                 \u001b[0mchunks\u001b[0m \u001b[0;34m=\u001b[0m \u001b[0mself\u001b[0m\u001b[0;34m.\u001b[0m\u001b[0m_reader\u001b[0m\u001b[0;34m.\u001b[0m\u001b[0mread_low_memory\u001b[0m\u001b[0;34m(\u001b[0m\u001b[0mnrows\u001b[0m\u001b[0;34m)\u001b[0m\u001b[0;34m\u001b[0m\u001b[0;34m\u001b[0m\u001b[0m\n\u001b[0m\u001b[1;32m    226\u001b[0m                 \u001b[0;31m# destructive to chunks\u001b[0m\u001b[0;34m\u001b[0m\u001b[0;34m\u001b[0m\u001b[0m\n\u001b[1;32m    227\u001b[0m                 \u001b[0mdata\u001b[0m \u001b[0;34m=\u001b[0m \u001b[0m_concatenate_chunks\u001b[0m\u001b[0;34m(\u001b[0m\u001b[0mchunks\u001b[0m\u001b[0;34m)\u001b[0m\u001b[0;34m\u001b[0m\u001b[0;34m\u001b[0m\u001b[0m\n",
            "\u001b[0;32m/usr/local/lib/python3.9/dist-packages/pandas/_libs/parsers.pyx\u001b[0m in \u001b[0;36mpandas._libs.parsers.TextReader.read_low_memory\u001b[0;34m()\u001b[0m\n",
            "\u001b[0;32m/usr/local/lib/python3.9/dist-packages/pandas/_libs/parsers.pyx\u001b[0m in \u001b[0;36mpandas._libs.parsers.TextReader._read_rows\u001b[0;34m()\u001b[0m\n",
            "\u001b[0;32m/usr/local/lib/python3.9/dist-packages/pandas/_libs/parsers.pyx\u001b[0m in \u001b[0;36mpandas._libs.parsers.TextReader._tokenize_rows\u001b[0;34m()\u001b[0m\n",
            "\u001b[0;32m/usr/local/lib/python3.9/dist-packages/pandas/_libs/parsers.pyx\u001b[0m in \u001b[0;36mpandas._libs.parsers.raise_parser_error\u001b[0;34m()\u001b[0m\n",
            "\u001b[0;31mParserError\u001b[0m: Error tokenizing data. C error: Expected 1 fields in line 3, saw 4\n"
          ]
        }
      ]
    },
    {
      "cell_type": "code",
      "source": [
        "c = 0\n",
        "\n",
        "for i in range(3):\n",
        "  if i<2:\n",
        "    replace_line(os.getcwd()+'/'+filelist[0], os.getcwd()+'/newfiles/'+filelist[0], c, '')\n",
        "  else:\n",
        "    replace_line(os.getcwd()+'/'+filelist[0], os.getcwd()+'/newfiles/'+filelist[0], c+1, '')\n",
        "\n",
        "df = pd.read_csv(os.getcwd()+'/newfiles/'+filelist[0])\n",
        "\n",
        "df"
      ],
      "metadata": {
        "colab": {
          "base_uri": "https://localhost:8080/",
          "height": 423
        },
        "id": "bxz5DEU1zuMb",
        "outputId": "ccf4d463-2290-405e-ddfa-b4a93b7021b1"
      },
      "execution_count": 35,
      "outputs": [
        {
          "output_type": "execute_result",
          "data": {
            "text/plain": [
              "                            ApsimVersion = 7.10 r4220\n",
              "year   day_of_year no3(4)                         NaN\n",
              "(year) ()          (kg/ha)                        NaN\n",
              "1980   1           18.9                           NaN\n",
              "       2           18.9                           NaN\n",
              "       3           19.0                           NaN\n",
              "...                                               ...\n",
              "2009   361         3.4                            NaN\n",
              "       362         3.5                            NaN\n",
              "       363         3.5                            NaN\n",
              "       364         3.5                            NaN\n",
              "       365         3.4                            NaN\n",
              "\n",
              "[10960 rows x 1 columns]"
            ],
            "text/html": [
              "\n",
              "  <div id=\"df-2b3777f0-8e1e-4493-992f-270ffdbbc9fd\">\n",
              "    <div class=\"colab-df-container\">\n",
              "      <div>\n",
              "<style scoped>\n",
              "    .dataframe tbody tr th:only-of-type {\n",
              "        vertical-align: middle;\n",
              "    }\n",
              "\n",
              "    .dataframe tbody tr th {\n",
              "        vertical-align: top;\n",
              "    }\n",
              "\n",
              "    .dataframe thead th {\n",
              "        text-align: right;\n",
              "    }\n",
              "</style>\n",
              "<table border=\"1\" class=\"dataframe\">\n",
              "  <thead>\n",
              "    <tr style=\"text-align: right;\">\n",
              "      <th></th>\n",
              "      <th></th>\n",
              "      <th></th>\n",
              "      <th>ApsimVersion = 7.10 r4220</th>\n",
              "    </tr>\n",
              "  </thead>\n",
              "  <tbody>\n",
              "    <tr>\n",
              "      <th>year</th>\n",
              "      <th>day_of_year</th>\n",
              "      <th>no3(4)</th>\n",
              "      <td>NaN</td>\n",
              "    </tr>\n",
              "    <tr>\n",
              "      <th>(year)</th>\n",
              "      <th>()</th>\n",
              "      <th>(kg/ha)</th>\n",
              "      <td>NaN</td>\n",
              "    </tr>\n",
              "    <tr>\n",
              "      <th rowspan=\"3\" valign=\"top\">1980</th>\n",
              "      <th>1</th>\n",
              "      <th>18.9</th>\n",
              "      <td>NaN</td>\n",
              "    </tr>\n",
              "    <tr>\n",
              "      <th>2</th>\n",
              "      <th>18.9</th>\n",
              "      <td>NaN</td>\n",
              "    </tr>\n",
              "    <tr>\n",
              "      <th>3</th>\n",
              "      <th>19.0</th>\n",
              "      <td>NaN</td>\n",
              "    </tr>\n",
              "    <tr>\n",
              "      <th>...</th>\n",
              "      <th>...</th>\n",
              "      <th>...</th>\n",
              "      <td>...</td>\n",
              "    </tr>\n",
              "    <tr>\n",
              "      <th rowspan=\"5\" valign=\"top\">2009</th>\n",
              "      <th>361</th>\n",
              "      <th>3.4</th>\n",
              "      <td>NaN</td>\n",
              "    </tr>\n",
              "    <tr>\n",
              "      <th>362</th>\n",
              "      <th>3.5</th>\n",
              "      <td>NaN</td>\n",
              "    </tr>\n",
              "    <tr>\n",
              "      <th>363</th>\n",
              "      <th>3.5</th>\n",
              "      <td>NaN</td>\n",
              "    </tr>\n",
              "    <tr>\n",
              "      <th>364</th>\n",
              "      <th>3.5</th>\n",
              "      <td>NaN</td>\n",
              "    </tr>\n",
              "    <tr>\n",
              "      <th>365</th>\n",
              "      <th>3.4</th>\n",
              "      <td>NaN</td>\n",
              "    </tr>\n",
              "  </tbody>\n",
              "</table>\n",
              "<p>10960 rows × 1 columns</p>\n",
              "</div>\n",
              "      <button class=\"colab-df-convert\" onclick=\"convertToInteractive('df-2b3777f0-8e1e-4493-992f-270ffdbbc9fd')\"\n",
              "              title=\"Convert this dataframe to an interactive table.\"\n",
              "              style=\"display:none;\">\n",
              "        \n",
              "  <svg xmlns=\"http://www.w3.org/2000/svg\" height=\"24px\"viewBox=\"0 0 24 24\"\n",
              "       width=\"24px\">\n",
              "    <path d=\"M0 0h24v24H0V0z\" fill=\"none\"/>\n",
              "    <path d=\"M18.56 5.44l.94 2.06.94-2.06 2.06-.94-2.06-.94-.94-2.06-.94 2.06-2.06.94zm-11 1L8.5 8.5l.94-2.06 2.06-.94-2.06-.94L8.5 2.5l-.94 2.06-2.06.94zm10 10l.94 2.06.94-2.06 2.06-.94-2.06-.94-.94-2.06-.94 2.06-2.06.94z\"/><path d=\"M17.41 7.96l-1.37-1.37c-.4-.4-.92-.59-1.43-.59-.52 0-1.04.2-1.43.59L10.3 9.45l-7.72 7.72c-.78.78-.78 2.05 0 2.83L4 21.41c.39.39.9.59 1.41.59.51 0 1.02-.2 1.41-.59l7.78-7.78 2.81-2.81c.8-.78.8-2.07 0-2.86zM5.41 20L4 18.59l7.72-7.72 1.47 1.35L5.41 20z\"/>\n",
              "  </svg>\n",
              "      </button>\n",
              "      \n",
              "  <style>\n",
              "    .colab-df-container {\n",
              "      display:flex;\n",
              "      flex-wrap:wrap;\n",
              "      gap: 12px;\n",
              "    }\n",
              "\n",
              "    .colab-df-convert {\n",
              "      background-color: #E8F0FE;\n",
              "      border: none;\n",
              "      border-radius: 50%;\n",
              "      cursor: pointer;\n",
              "      display: none;\n",
              "      fill: #1967D2;\n",
              "      height: 32px;\n",
              "      padding: 0 0 0 0;\n",
              "      width: 32px;\n",
              "    }\n",
              "\n",
              "    .colab-df-convert:hover {\n",
              "      background-color: #E2EBFA;\n",
              "      box-shadow: 0px 1px 2px rgba(60, 64, 67, 0.3), 0px 1px 3px 1px rgba(60, 64, 67, 0.15);\n",
              "      fill: #174EA6;\n",
              "    }\n",
              "\n",
              "    [theme=dark] .colab-df-convert {\n",
              "      background-color: #3B4455;\n",
              "      fill: #D2E3FC;\n",
              "    }\n",
              "\n",
              "    [theme=dark] .colab-df-convert:hover {\n",
              "      background-color: #434B5C;\n",
              "      box-shadow: 0px 1px 3px 1px rgba(0, 0, 0, 0.15);\n",
              "      filter: drop-shadow(0px 1px 2px rgba(0, 0, 0, 0.3));\n",
              "      fill: #FFFFFF;\n",
              "    }\n",
              "  </style>\n",
              "\n",
              "      <script>\n",
              "        const buttonEl =\n",
              "          document.querySelector('#df-2b3777f0-8e1e-4493-992f-270ffdbbc9fd button.colab-df-convert');\n",
              "        buttonEl.style.display =\n",
              "          google.colab.kernel.accessAllowed ? 'block' : 'none';\n",
              "\n",
              "        async function convertToInteractive(key) {\n",
              "          const element = document.querySelector('#df-2b3777f0-8e1e-4493-992f-270ffdbbc9fd');\n",
              "          const dataTable =\n",
              "            await google.colab.kernel.invokeFunction('convertToInteractive',\n",
              "                                                     [key], {});\n",
              "          if (!dataTable) return;\n",
              "\n",
              "          const docLinkHtml = 'Like what you see? Visit the ' +\n",
              "            '<a target=\"_blank\" href=https://colab.research.google.com/notebooks/data_table.ipynb>data table notebook</a>'\n",
              "            + ' to learn more about interactive tables.';\n",
              "          element.innerHTML = '';\n",
              "          dataTable['output_type'] = 'display_data';\n",
              "          await google.colab.output.renderOutput(dataTable, element);\n",
              "          const docLink = document.createElement('div');\n",
              "          docLink.innerHTML = docLinkHtml;\n",
              "          element.appendChild(docLink);\n",
              "        }\n",
              "      </script>\n",
              "    </div>\n",
              "  </div>\n",
              "  "
            ]
          },
          "metadata": {},
          "execution_count": 35
        }
      ]
    },
    {
      "cell_type": "code",
      "source": [
        "# df.to_csv(os.getcwd()+'/'+filelist[-2])"
      ],
      "metadata": {
        "id": "kJ3e0tnBAYHm"
      },
      "execution_count": 54,
      "outputs": []
    },
    {
      "cell_type": "code",
      "source": [
        "df_wheat = df.copy()\n",
        "df_maize = df.copy()"
      ],
      "metadata": {
        "id": "OYHPgrwoA_ah"
      },
      "execution_count": 24,
      "outputs": []
    },
    {
      "cell_type": "code",
      "source": [
        "df_wheat = df_wheat.iloc[:,[0,1,3,5,6,7]]\n",
        "df_wheat"
      ],
      "metadata": {
        "id": "slfva6AvDjKR"
      },
      "execution_count": null,
      "outputs": []
    },
    {
      "cell_type": "code",
      "source": [
        "df_wheat = df_wheat.iloc[1::2]\n",
        "df_wheat"
      ],
      "metadata": {
        "id": "nmFMdukVDu_y"
      },
      "execution_count": null,
      "outputs": []
    },
    {
      "cell_type": "code",
      "source": [
        "df_maize = df_maize.iloc[:,[0,2,4,5,6,7]]\n",
        "df_maize"
      ],
      "metadata": {
        "id": "5PUbUbVSEdR-"
      },
      "execution_count": null,
      "outputs": []
    },
    {
      "cell_type": "code",
      "source": [
        "df_maize = df_maize.iloc[::2]\n",
        "df_maize"
      ],
      "metadata": {
        "id": "LrC8SfutExjK"
      },
      "execution_count": null,
      "outputs": []
    },
    {
      "cell_type": "code",
      "source": [
        "os.mkdir('/content/drive/MyDrive/Yield/NEW1/')"
      ],
      "metadata": {
        "id": "SbjD1v_HFrdj"
      },
      "execution_count": 68,
      "outputs": []
    },
    {
      "cell_type": "code",
      "source": [
        "with pd.ExcelWriter('/content/drive/MyDrive/Yield/NEW1/Maize Wheat60%N3.xlsx') as writer:\n",
        "  df_wheat.to_excel(writer, sheet_name='wheat')\n",
        "  df_maize.to_excel(writer, sheet_name='maize')"
      ],
      "metadata": {
        "id": "SlFk6ek-E4Fn"
      },
      "execution_count": 69,
      "outputs": []
    },
    {
      "cell_type": "markdown",
      "source": [
        "## Yield"
      ],
      "metadata": {
        "id": "eoFCpEO8eeTG"
      }
    },
    {
      "cell_type": "code",
      "source": [
        "os.chdir('/content/drive/MyDrive/M_W_CSV/M_W_60%/Yield')\n",
        "filelist = os.listdir()\n",
        "print(filelist)\n",
        "os.getcwd()+filelist[0]"
      ],
      "metadata": {
        "colab": {
          "base_uri": "https://localhost:8080/",
          "height": 73
        },
        "outputId": "8bf1bddf-58b3-4b31-8650-d515bb31ffd7",
        "id": "5WuwI6Seejve"
      },
      "execution_count": 21,
      "outputs": [
        {
          "output_type": "stream",
          "name": "stdout",
          "text": [
            "['Maize Wheat60%N1.csv', 'Maize Wheat60%N3.csv', 'Maize Wheat60%N2.csv', 'Maize Wheat60%N4.csv', 'Maize Wheat60%N5.csv', 'Maize Wheat60%N7.csv', 'Maize Wheat60%N8.csv', 'Maize Wheat60%N6.csv', 'Maize Wheat60%N9.csv', 'Maize Wheat60%N10.csv', 'Maize Wheat60%N12.csv', 'Maize Wheat60%N11.csv', 'Maize Wheat60%N15.csv', 'Maize Wheat60%N13.csv', 'Maize Wheat60%N14.csv', 'Maize Wheat60%N17.csv', 'Maize Wheat60%N16.csv', 'Maize Wheat60%N18.csv', 'Maize Wheat60%N20.csv', 'Maize Wheat60%N19.csv', 'Maize Wheat60%N22.csv', 'Maize Wheat60%N23.csv', 'Maize Wheat60%N21.csv', 'Maize Wheat60%N24.csv', 'Maize Wheat60%N25.csv', 'Maize Wheat60%N26.csv', 'Maize Wheat60%N28.csv', 'Maize Wheat60%N27.csv', 'Maize Wheat60%N29.csv', 'Maize Wheat60%N30.csv', 'Maize Wheat60%N31.csv', 'Maize Wheat60%N33.csv', 'Maize Wheat60%N34.csv', 'Maize Wheat60%N32.csv', 'Maize Wheat60%N36.csv', 'Maize Wheat60%N35.csv', 'Maize Wheat60%N37.csv', 'Maize Wheat60%N38.csv', 'Maize Wheat60%N39.csv', 'Maize Wheat60%N41.csv', 'Maize Wheat60%N40.csv', 'Maize Wheat60%N43.csv', 'Maize Wheat60%N42.csv', 'Maize Wheat60%N45.csv', 'Maize Wheat60%N44.csv', 'Maize Wheat60%N46.csv', 'Maize Wheat60%N47.csv', 'Maize Wheat60%N49.csv', 'Maize Wheat60%N48.csv', 'Maize Wheat60%N50.csv', 'Maize Wheat60%N51.csv', 'Maize Wheat60%N52.csv', 'Maize Wheat60%N53.csv', 'Maize Wheat60%N54.csv', 'Maize Wheat60%N55.csv', 'Maize Wheat60%N56.csv', 'Maize Wheat60%N58.csv', 'Maize Wheat60%N57.csv', 'Maize Wheat60%N59.csv', 'Maize Wheat60%N60.csv', 'Maize Wheat60%N62.csv', 'Maize Wheat60%N61.csv', 'Maize Wheat60%N64.csv', 'Maize Wheat60%N65.csv', 'Maize Wheat60%N63.csv', 'Maize Wheat60%N67.csv', 'Maize Wheat60%N66.csv', 'Maize Wheat60%N68.csv', 'Maize Wheat60%N69.csv', 'Maize Wheat60%N70.csv', 'Maize Wheat60%N71.csv', 'Maize Wheat60%N73.csv', 'Maize Wheat60%N72.csv', 'Maize Wheat60%N75.csv', 'Maize Wheat60%N74.csv', 'Maize Wheat60%N76.csv', 'Maize Wheat60%N78.csv', 'Maize Wheat60%N77.csv', 'Maize Wheat60%N79.csv', 'Maize Wheat60%N80.csv', 'Maize Wheat60%N81.csv', 'Maize Wheat60%N82.csv', 'Maize Wheat60%N84.csv', 'Maize Wheat60%N83.csv', 'Maize Wheat60%N85.csv', 'Maize Wheat60%N86.csv', 'Maize Wheat60%N89.csv', 'Maize Wheat60%N87.csv', 'Maize Wheat60%N88.csv', 'Maize Wheat60%N91.csv', 'Maize Wheat60%N90.csv', 'Maize Wheat60%N93.csv', 'Maize Wheat60%N92.csv', 'Maize Wheat60%N95.csv', 'Maize Wheat60%N94.csv', 'Maize Wheat60%N97.csv', 'Maize Wheat60%N96.csv', 'Maize Wheat60%N99.csv', 'Maize Wheat60%N98.csv', 'Maize Wheat60%N.xlsx', 'rename.sh', 'Untitled.ipynb', 'new.sh', '.ipynb_checkpoints']\n"
          ]
        },
        {
          "output_type": "execute_result",
          "data": {
            "text/plain": [
              "'/content/drive/MyDrive/M_W_CSV/M_W_60%/YieldMaize Wheat60%N1.csv'"
            ],
            "application/vnd.google.colaboratory.intrinsic+json": {
              "type": "string"
            }
          },
          "metadata": {},
          "execution_count": 21
        }
      ]
    },
    {
      "cell_type": "code",
      "source": [
        "f = open(os.getcwd()+'/'+filelist[0], \"r\")\n",
        "print(f.read())"
      ],
      "metadata": {
        "id": "6CRz5zM-ejve"
      },
      "execution_count": null,
      "outputs": []
    },
    {
      "cell_type": "code",
      "source": [
        "def replace_line(file_name, line_num, text):\n",
        "    lines = open(file_name, 'r').readlines()\n",
        "    lines[line_num] = text\n",
        "    out = open(file_name, 'w')\n",
        "    out.writelines(lines)\n",
        "    out.close()"
      ],
      "metadata": {
        "id": "IIDGC04wejve"
      },
      "execution_count": null,
      "outputs": []
    },
    {
      "cell_type": "code",
      "source": [
        "c = 0\n",
        "for i in range(3):\n",
        "  if i<2:\n",
        "    replace_line(os.getcwd()+'/'+filelist[0], c, '')\n",
        "  else:\n",
        "    replace_line(os.getcwd()+'/'+filelist[0], c+1, '')"
      ],
      "metadata": {
        "id": "4yHJuVu-ejve"
      },
      "execution_count": null,
      "outputs": []
    },
    {
      "cell_type": "markdown",
      "source": [
        "# 100%"
      ],
      "metadata": {
        "id": "d6MGKD-0dWDv"
      }
    },
    {
      "cell_type": "markdown",
      "source": [
        "## Nitrate"
      ],
      "metadata": {
        "id": "eh3jiteafOIT"
      }
    },
    {
      "cell_type": "code",
      "source": [
        "os.chdir('/content/drive/MyDrive/M_W_CSV/M_W_100%/Nitrate')\n",
        "filelist = os.listdir()\n",
        "print(filelist)\n",
        "os.getcwd()+filelist[0]"
      ],
      "metadata": {
        "colab": {
          "base_uri": "https://localhost:8080/",
          "height": 73
        },
        "id": "s_fh65UPdnYD",
        "outputId": "26916dbf-d64a-4b5a-8d11-81d9810f6e2a"
      },
      "execution_count": 16,
      "outputs": [
        {
          "output_type": "stream",
          "name": "stdout",
          "text": [
            "['Maize Wheat100%N.csv', 'Maize Wheat100%N1.csv', 'Maize Wheat100%N2.csv', 'Maize Wheat100%N3.csv', 'Maize Wheat100%N4.csv', 'Maize Wheat100%N5.csv', 'Maize Wheat100%N6.csv', 'Maize Wheat100%N7.csv', 'Maize Wheat100%N8.csv', 'Maize Wheat100%N9.csv', 'Maize Wheat100%N10.csv', 'Maize Wheat100%N11.csv', 'Maize Wheat100%N12.csv', 'Maize Wheat100%N13.csv', 'Maize Wheat100%N14.csv', 'Maize Wheat100%N16.csv', 'Maize Wheat100%N15.csv', 'Maize Wheat100%N18.csv', 'Maize Wheat100%N17.csv', 'Maize Wheat100%N19.csv', 'Maize Wheat100%N20.csv', 'Maize Wheat100%N21.csv', 'Maize Wheat100%N23.csv', 'Maize Wheat100%N22.csv', 'Maize Wheat100%N24.csv', 'Maize Wheat100%N25.csv', 'Maize Wheat100%N26.csv', 'Maize Wheat100%N27.csv', 'Maize Wheat100%N28.csv', 'Maize Wheat100%N29.csv', 'Maize Wheat100%N31.csv', 'Maize Wheat100%N30.csv', 'Maize Wheat100%N33.csv', 'Maize Wheat100%N32.csv', 'Maize Wheat100%N34.csv', 'Maize Wheat100%N35.csv', 'Maize Wheat100%N37.csv', 'Maize Wheat100%N36.csv', 'Maize Wheat100%N39.csv', 'Maize Wheat100%N38.csv', 'Maize Wheat100%N40.csv', 'Maize Wheat100%N41.csv', 'Maize Wheat100%N42.csv', 'Maize Wheat100%N43.csv', 'Maize Wheat100%N44.csv', 'Maize Wheat100%N45.csv', 'Maize Wheat100%N46.csv', 'Maize Wheat100%N47.csv', 'Maize Wheat100%N49.csv', 'Maize Wheat100%N48.csv', 'Maize Wheat100%N51.csv', 'Maize Wheat100%N50.csv', 'Maize Wheat100%N53.csv', 'Maize Wheat100%N52.csv', 'Maize Wheat100%N55.csv', 'Maize Wheat100%N54.csv', 'Maize Wheat100%N56.csv', 'Maize Wheat100%N57.csv', 'Maize Wheat100%N58.csv', 'Maize Wheat100%N59.csv', 'Maize Wheat100%N61.csv', 'Maize Wheat100%N60.csv', 'Maize Wheat100%N62.csv', 'Maize Wheat100%N63.csv', 'Maize Wheat100%N65.csv', 'Maize Wheat100%N64.csv', 'Maize Wheat100%N67.csv', 'Maize Wheat100%N66.csv', 'Maize Wheat100%N69.csv', 'Maize Wheat100%N68.csv', 'Maize Wheat100%N70.csv', 'Maize Wheat100%N71.csv', 'Maize Wheat100%N72.csv', 'Maize Wheat100%N74.csv', 'Maize Wheat100%N73.csv', 'Maize Wheat100%N76.csv', 'Maize Wheat100%N75.csv', 'Maize Wheat100%N77.csv', 'Maize Wheat100%N78.csv', 'Maize Wheat100%N79.csv', 'Maize Wheat100%N80.csv', 'Maize Wheat100%N81.csv', 'Maize Wheat100%N83.csv', 'Maize Wheat100%N82.csv', 'Maize Wheat100%N84.csv', 'Maize Wheat100%N85.csv', 'Maize Wheat100%N86.csv', 'Maize Wheat100%N87.csv', 'Maize Wheat100%N88.csv', 'Maize Wheat100%N90.csv', 'Maize Wheat100%N89.csv', 'Maize Wheat100%N91.csv', 'Maize Wheat100%N92.csv', 'Maize Wheat100%N93.csv', 'Maize Wheat100%N94.csv', 'Maize Wheat100%N95.csv', 'Maize Wheat100%N96.csv', 'Maize Wheat100%N97.csv', 'Maize Wheat100%N99.csv', 'Maize Wheat100%N98.csv']\n"
          ]
        },
        {
          "output_type": "execute_result",
          "data": {
            "text/plain": [
              "'/content/drive/MyDrive/M_W_CSV/M_W_100%/NitrateMaize Wheat100%N.csv'"
            ],
            "application/vnd.google.colaboratory.intrinsic+json": {
              "type": "string"
            }
          },
          "metadata": {},
          "execution_count": 16
        }
      ]
    },
    {
      "cell_type": "code",
      "source": [
        "f = open(os.getcwd()+'/'+filelist[0], \"r\")\n",
        "print(f.read())"
      ],
      "metadata": {
        "id": "iLvVXBThdnYE"
      },
      "execution_count": null,
      "outputs": []
    },
    {
      "cell_type": "code",
      "source": [
        "def replace_line(file_name, line_num, text):\n",
        "    lines = open(file_name, 'r').readlines()\n",
        "    lines[line_num] = text\n",
        "    out = open(file_name, 'w')\n",
        "    out.writelines(lines)\n",
        "    out.close()"
      ],
      "metadata": {
        "id": "H4I6bz7JdnYF"
      },
      "execution_count": null,
      "outputs": []
    },
    {
      "cell_type": "code",
      "source": [
        "c = 0\n",
        "for i in range(3):\n",
        "  if i<2:\n",
        "    replace_line(os.getcwd()+'/'+filelist[0], c, '')\n",
        "  else:\n",
        "    replace_line(os.getcwd()+'/'+filelist[0], c+1, '')"
      ],
      "metadata": {
        "id": "XKOTgaBSdnYF"
      },
      "execution_count": null,
      "outputs": []
    },
    {
      "cell_type": "markdown",
      "source": [
        "## Yield"
      ],
      "metadata": {
        "id": "eKUlxJ4tfQbt"
      }
    },
    {
      "cell_type": "code",
      "source": [
        "os.chdir('/content/drive/MyDrive/M_W_CSV/M_W_100%/Yield')\n",
        "filelist = os.listdir()\n",
        "print(filelist)\n",
        "os.getcwd()+filelist[0]"
      ],
      "metadata": {
        "colab": {
          "base_uri": "https://localhost:8080/",
          "height": 73
        },
        "outputId": "26916dbf-d64a-4b5a-8d11-81d9810f6e2a",
        "id": "KrM3aXd3fR2d"
      },
      "execution_count": null,
      "outputs": [
        {
          "output_type": "stream",
          "name": "stdout",
          "text": [
            "['Maize Wheat100%N.csv', 'Maize Wheat100%N1.csv', 'Maize Wheat100%N2.csv', 'Maize Wheat100%N3.csv', 'Maize Wheat100%N4.csv', 'Maize Wheat100%N5.csv', 'Maize Wheat100%N6.csv', 'Maize Wheat100%N7.csv', 'Maize Wheat100%N8.csv', 'Maize Wheat100%N9.csv', 'Maize Wheat100%N10.csv', 'Maize Wheat100%N11.csv', 'Maize Wheat100%N12.csv', 'Maize Wheat100%N13.csv', 'Maize Wheat100%N14.csv', 'Maize Wheat100%N16.csv', 'Maize Wheat100%N15.csv', 'Maize Wheat100%N18.csv', 'Maize Wheat100%N17.csv', 'Maize Wheat100%N19.csv', 'Maize Wheat100%N20.csv', 'Maize Wheat100%N21.csv', 'Maize Wheat100%N23.csv', 'Maize Wheat100%N22.csv', 'Maize Wheat100%N24.csv', 'Maize Wheat100%N25.csv', 'Maize Wheat100%N26.csv', 'Maize Wheat100%N27.csv', 'Maize Wheat100%N28.csv', 'Maize Wheat100%N29.csv', 'Maize Wheat100%N31.csv', 'Maize Wheat100%N30.csv', 'Maize Wheat100%N33.csv', 'Maize Wheat100%N32.csv', 'Maize Wheat100%N34.csv', 'Maize Wheat100%N35.csv', 'Maize Wheat100%N37.csv', 'Maize Wheat100%N36.csv', 'Maize Wheat100%N39.csv', 'Maize Wheat100%N38.csv', 'Maize Wheat100%N40.csv', 'Maize Wheat100%N41.csv', 'Maize Wheat100%N42.csv', 'Maize Wheat100%N43.csv', 'Maize Wheat100%N44.csv', 'Maize Wheat100%N45.csv', 'Maize Wheat100%N46.csv', 'Maize Wheat100%N47.csv', 'Maize Wheat100%N49.csv', 'Maize Wheat100%N48.csv', 'Maize Wheat100%N51.csv', 'Maize Wheat100%N50.csv', 'Maize Wheat100%N53.csv', 'Maize Wheat100%N52.csv', 'Maize Wheat100%N55.csv', 'Maize Wheat100%N54.csv', 'Maize Wheat100%N56.csv', 'Maize Wheat100%N57.csv', 'Maize Wheat100%N58.csv', 'Maize Wheat100%N59.csv', 'Maize Wheat100%N61.csv', 'Maize Wheat100%N60.csv', 'Maize Wheat100%N62.csv', 'Maize Wheat100%N63.csv', 'Maize Wheat100%N65.csv', 'Maize Wheat100%N64.csv', 'Maize Wheat100%N67.csv', 'Maize Wheat100%N66.csv', 'Maize Wheat100%N69.csv', 'Maize Wheat100%N68.csv', 'Maize Wheat100%N70.csv', 'Maize Wheat100%N71.csv', 'Maize Wheat100%N72.csv', 'Maize Wheat100%N74.csv', 'Maize Wheat100%N73.csv', 'Maize Wheat100%N76.csv', 'Maize Wheat100%N75.csv', 'Maize Wheat100%N77.csv', 'Maize Wheat100%N78.csv', 'Maize Wheat100%N79.csv', 'Maize Wheat100%N80.csv', 'Maize Wheat100%N81.csv', 'Maize Wheat100%N83.csv', 'Maize Wheat100%N82.csv', 'Maize Wheat100%N84.csv', 'Maize Wheat100%N85.csv', 'Maize Wheat100%N86.csv', 'Maize Wheat100%N87.csv', 'Maize Wheat100%N88.csv', 'Maize Wheat100%N90.csv', 'Maize Wheat100%N89.csv', 'Maize Wheat100%N91.csv', 'Maize Wheat100%N92.csv', 'Maize Wheat100%N93.csv', 'Maize Wheat100%N94.csv', 'Maize Wheat100%N95.csv', 'Maize Wheat100%N96.csv', 'Maize Wheat100%N97.csv', 'Maize Wheat100%N99.csv', 'Maize Wheat100%N98.csv']\n"
          ]
        },
        {
          "output_type": "execute_result",
          "data": {
            "text/plain": [
              "'/content/drive/MyDrive/M_W_CSV/M_W_100%/NitrateMaize Wheat100%N.csv'"
            ],
            "application/vnd.google.colaboratory.intrinsic+json": {
              "type": "string"
            }
          },
          "metadata": {},
          "execution_count": 16
        }
      ]
    },
    {
      "cell_type": "code",
      "source": [
        "f = open(os.getcwd()+'/'+filelist[0], \"r\")\n",
        "print(f.read())"
      ],
      "metadata": {
        "id": "KYfJb0JffR2d"
      },
      "execution_count": null,
      "outputs": []
    },
    {
      "cell_type": "code",
      "source": [
        "def replace_line(file_name, line_num, text):\n",
        "    lines = open(file_name, 'r').readlines()\n",
        "    lines[line_num] = text\n",
        "    out = open(file_name, 'w')\n",
        "    out.writelines(lines)\n",
        "    out.close()"
      ],
      "metadata": {
        "id": "ObvYI765fR2d"
      },
      "execution_count": null,
      "outputs": []
    },
    {
      "cell_type": "code",
      "source": [
        "c = 0\n",
        "for i in range(3):\n",
        "  if i<2:\n",
        "    replace_line(os.getcwd()+'/'+filelist[0], c, '')\n",
        "  else:\n",
        "    replace_line(os.getcwd()+'/'+filelist[0], c+1, '')"
      ],
      "metadata": {
        "id": "zW4qfPwBfR2e"
      },
      "execution_count": null,
      "outputs": []
    },
    {
      "cell_type": "markdown",
      "source": [
        "# Integrated"
      ],
      "metadata": {
        "id": "0xA1Knt7db4T"
      }
    },
    {
      "cell_type": "markdown",
      "source": [
        "## Nitrate"
      ],
      "metadata": {
        "id": "J_gi-Uolfkp3"
      }
    },
    {
      "cell_type": "code",
      "source": [
        "os.chdir('/content/drive/MyDrive/M_W_CSV/M_W_Integrated/Nitrate')\n",
        "filelist = os.listdir()\n",
        "print(filelist)\n",
        "os.getcwd()+filelist[0]"
      ],
      "metadata": {
        "colab": {
          "base_uri": "https://localhost:8080/",
          "height": 73
        },
        "outputId": "4f6d2eff-399f-4d79-b20e-6dac3ba0ac8c",
        "id": "0P_PZD1deGji"
      },
      "execution_count": 18,
      "outputs": [
        {
          "output_type": "stream",
          "name": "stdout",
          "text": [
            "['Maize Wheat_INM.csv', 'Maize Wheat_INM1.csv', 'Maize Wheat_INM2.csv', 'Maize Wheat_INM3.csv', 'Maize Wheat_INM4.csv', 'Maize Wheat_INM5.csv', 'Maize Wheat_INM6.csv', 'Maize Wheat_INM7.csv', 'Maize Wheat_INM9.csv', 'Maize Wheat_INM8.csv', 'Maize Wheat_INM10.csv', 'Maize Wheat_INM11.csv', 'Maize Wheat_INM13.csv', 'Maize Wheat_INM12.csv', 'Maize Wheat_INM14.csv', 'Maize Wheat_INM15.csv', 'Maize Wheat_INM16.csv', 'Maize Wheat_INM18.csv', 'Maize Wheat_INM17.csv', 'Maize Wheat_INM20.csv', 'Maize Wheat_INM19.csv', 'Maize Wheat_INM21.csv', 'Maize Wheat_INM22.csv', 'Maize Wheat_INM23.csv', 'Maize Wheat_INM24.csv', 'Maize Wheat_INM25.csv', 'Maize Wheat_INM26.csv', 'Maize Wheat_INM28.csv', 'Maize Wheat_INM27.csv', 'Maize Wheat_INM29.csv', 'Maize Wheat_INM31.csv', 'Maize Wheat_INM30.csv', 'Maize Wheat_INM32.csv', 'Maize Wheat_INM33.csv', 'Maize Wheat_INM34.csv', 'Maize Wheat_INM36.csv', 'Maize Wheat_INM35.csv', 'Maize Wheat_INM39.csv', 'Maize Wheat_INM40.csv', 'Maize Wheat_INM37.csv', 'Maize Wheat_INM38.csv', 'Maize Wheat_INM42.csv', 'Maize Wheat_INM43.csv', 'Maize Wheat_INM41.csv', 'Maize Wheat_INM44.csv', 'Maize Wheat_INM45.csv', 'Maize Wheat_INM46.csv', 'Maize Wheat_INM48.csv', 'Maize Wheat_INM47.csv', 'Maize Wheat_INM49.csv', 'Maize Wheat_INM50.csv', 'Maize Wheat_INM51.csv', 'Maize Wheat_INM52.csv', 'Maize Wheat_INM53.csv', 'Maize Wheat_INM54.csv', 'Maize Wheat_INM55.csv', 'Maize Wheat_INM56.csv', 'Maize Wheat_INM58.csv', 'Maize Wheat_INM60.csv', 'Maize Wheat_INM57.csv', 'Maize Wheat_INM59.csv', 'Maize Wheat_INM63.csv', 'Maize Wheat_INM61.csv', 'Maize Wheat_INM62.csv', 'Maize Wheat_INM66.csv', 'Maize Wheat_INM67.csv', 'Maize Wheat_INM65.csv', 'Maize Wheat_INM64.csv', 'Maize Wheat_INM69.csv', 'Maize Wheat_INM70.csv', 'Maize Wheat_INM68.csv', 'Maize Wheat_INM74.csv', 'Maize Wheat_INM71.csv', 'Maize Wheat_INM73.csv', 'Maize Wheat_INM72.csv', 'Maize Wheat_INM75.csv', 'Maize Wheat_INM76.csv', 'Maize Wheat_INM77.csv', 'Maize Wheat_INM78.csv', 'Maize Wheat_INM80.csv', 'Maize Wheat_INM79.csv', 'Maize Wheat_INM82.csv', 'Maize Wheat_INM83.csv', 'Maize Wheat_INM81.csv', 'Maize Wheat_INM85.csv', 'Maize Wheat_INM86.csv', 'Maize Wheat_INM87.csv', 'Maize Wheat_INM84.csv', 'Maize Wheat_INM90.csv', 'Maize Wheat_INM88.csv', 'Maize Wheat_INM89.csv', 'Maize Wheat_INM91.csv', 'Maize Wheat_INM93.csv', 'Maize Wheat_INM92.csv', 'Maize Wheat_INM96.csv', 'Maize Wheat_INM94.csv', 'Maize Wheat_INM95.csv', 'Maize Wheat_INM97.csv', 'Maize Wheat_INM99.csv', 'Maize Wheat_INM98.csv']\n"
          ]
        },
        {
          "output_type": "execute_result",
          "data": {
            "text/plain": [
              "'/content/drive/MyDrive/M_W_CSV/M_W_Integrated/NitrateMaize Wheat_INM.csv'"
            ],
            "application/vnd.google.colaboratory.intrinsic+json": {
              "type": "string"
            }
          },
          "metadata": {},
          "execution_count": 18
        }
      ]
    },
    {
      "cell_type": "code",
      "source": [
        "f = open(os.getcwd()+'/'+filelist[0], \"r\")\n",
        "print(f.read())"
      ],
      "metadata": {
        "id": "ZwgumIF0eGjk"
      },
      "execution_count": null,
      "outputs": []
    },
    {
      "cell_type": "code",
      "source": [
        "def replace_line(file_name, line_num, text):\n",
        "    lines = open(file_name, 'r').readlines()\n",
        "    lines[line_num] = text\n",
        "    out = open(file_name, 'w')\n",
        "    out.writelines(lines)\n",
        "    out.close()"
      ],
      "metadata": {
        "id": "XDV91TyqeGjl"
      },
      "execution_count": null,
      "outputs": []
    },
    {
      "cell_type": "code",
      "source": [
        "c = 0\n",
        "for i in range(3):\n",
        "  if i<2:\n",
        "    replace_line(os.getcwd()+'/'+filelist[0], c, '')\n",
        "  else:\n",
        "    replace_line(os.getcwd()+'/'+filelist[0], c+1, '')"
      ],
      "metadata": {
        "id": "OCOqGXNgeGjl"
      },
      "execution_count": null,
      "outputs": []
    },
    {
      "cell_type": "markdown",
      "source": [
        "## Yield"
      ],
      "metadata": {
        "id": "KrUI9C7bfmtJ"
      }
    },
    {
      "cell_type": "code",
      "source": [
        "os.chdir('/content/drive/MyDrive/M_W_CSV/M_W_Integrated/Yield')\n",
        "filelist = os.listdir()\n",
        "print(filelist)\n",
        "os.getcwd()+filelist[0]"
      ],
      "metadata": {
        "colab": {
          "base_uri": "https://localhost:8080/",
          "height": 73
        },
        "outputId": "3230ba26-d577-45ef-e753-dbfb1410c15f",
        "id": "4BAmwT5efoik"
      },
      "execution_count": 20,
      "outputs": [
        {
          "output_type": "stream",
          "name": "stdout",
          "text": [
            "['Maize Wheat_INM.csv', 'Maize Wheat_INM1.csv', 'Maize Wheat_INM2.csv', 'Maize Wheat_INM3.csv', 'Maize Wheat_INM4.csv', 'Maize Wheat_INM6.csv', 'Maize Wheat_INM5.csv', 'Maize Wheat_INM7.csv', 'Maize Wheat_INM9.csv', 'Maize Wheat_INM11.csv', 'Maize Wheat_INM10.csv', 'Maize Wheat_INM23.csv', 'Maize Wheat_INM20.csv', 'Maize Wheat_INM24.csv', 'Maize Wheat_INM21.csv', 'Maize Wheat_INM17.csv', 'Maize Wheat_INM19.csv', 'Maize Wheat_INM15.csv', 'Maize Wheat_INM27.csv', 'Maize Wheat_INM12.csv', 'Maize Wheat_INM25.csv', 'Maize Wheat_INM14.csv', 'Maize Wheat_INM26.csv', 'Maize Wheat_INM18.csv', 'Maize Wheat_INM22.csv', 'Maize Wheat_INM16.csv', 'Maize Wheat_INM13.csv', 'Maize Wheat_INM38.csv', 'Maize Wheat_INM35.csv', 'Maize Wheat_INM34.csv', 'Maize Wheat_INM39.csv', 'Maize Wheat_INM30.csv', 'Maize Wheat_INM37.csv', 'Maize Wheat_INM31.csv', 'Maize Wheat_INM36.csv', 'Maize Wheat_INM32.csv', 'Maize Wheat_INM33.csv', 'Maize Wheat_INM29.csv', 'Maize Wheat_INM28.csv', 'Maize Wheat_INM55.csv', 'Maize Wheat_INM56.csv', 'Maize Wheat_INM50.csv', 'Maize Wheat_INM54.csv', 'Maize Wheat_INM51.csv', 'Maize Wheat_INM47.csv', 'Maize Wheat_INM44.csv', 'Maize Wheat_INM42.csv', 'Maize Wheat_INM48.csv', 'Maize Wheat_INM40.csv', 'Maize Wheat_INM45.csv', 'Maize Wheat_INM46.csv', 'Maize Wheat_INM52.csv', 'Maize Wheat_INM43.csv', 'Maize Wheat_INM53.csv', 'Maize Wheat_INM41.csv', 'Maize Wheat_INM57.csv', 'Maize Wheat_INM49.csv', 'Maize Wheat_INM58.csv', 'Maize Wheat_INM70.csv', 'Maize Wheat_INM67.csv', 'Maize Wheat_INM59.csv', 'Maize Wheat_INM73.csv', 'Maize Wheat_INM66.csv', 'Maize Wheat_INM75.csv', 'Maize Wheat_INM64.csv', 'Maize Wheat_INM63.csv', 'Maize Wheat_INM69.csv', 'Maize Wheat_INM60.csv', 'Maize Wheat_INM68.csv', 'Maize Wheat_INM72.csv', 'Maize Wheat_INM62.csv', 'Maize Wheat_INM71.csv', 'Maize Wheat_INM74.csv', 'Maize Wheat_INM61.csv', 'Maize Wheat_INM65.csv', 'Maize Wheat_INM96.csv', 'Maize Wheat_INM87.csv', 'Maize Wheat_INM91.csv', 'Maize Wheat_INM98.csv', 'Maize Wheat_INM82.csv', 'Maize Wheat_INM80.csv', 'Maize Wheat_INM99.csv', 'Maize Wheat_INM78.csv', 'Maize Wheat_INM89.csv', 'Maize Wheat_INM93.csv', 'Maize Wheat_INM77.csv', 'Maize Wheat_INM94.csv', 'Maize Wheat_INM84.csv', 'Maize Wheat_INM83.csv', 'Maize Wheat_INM95.csv', 'Maize Wheat_INM79.csv', 'Maize Wheat_INM97.csv', 'Maize Wheat_INM81.csv', 'Maize Wheat_INM88.csv', 'Maize Wheat_INM76.csv', 'Maize Wheat_INM86.csv', 'Maize Wheat_INM85.csv', 'Maize Wheat_INM90.csv', 'Maize Wheat_INM92.csv', 'Maize Wheat_INM8.csv']\n"
          ]
        },
        {
          "output_type": "execute_result",
          "data": {
            "text/plain": [
              "'/content/drive/MyDrive/M_W_CSV/M_W_Integrated/YieldMaize Wheat_INM.csv'"
            ],
            "application/vnd.google.colaboratory.intrinsic+json": {
              "type": "string"
            }
          },
          "metadata": {},
          "execution_count": 20
        }
      ]
    },
    {
      "cell_type": "code",
      "source": [
        "f = open(os.getcwd()+'/'+filelist[0], \"r\")\n",
        "print(f.read())"
      ],
      "metadata": {
        "id": "xvz0IRZwfoil"
      },
      "execution_count": null,
      "outputs": []
    },
    {
      "cell_type": "code",
      "source": [
        "def replace_line(file_name, line_num, text):\n",
        "    lines = open(file_name, 'r').readlines()\n",
        "    lines[line_num] = text\n",
        "    out = open(file_name, 'w')\n",
        "    out.writelines(lines)\n",
        "    out.close()"
      ],
      "metadata": {
        "id": "uai9e2a2foil"
      },
      "execution_count": null,
      "outputs": []
    },
    {
      "cell_type": "code",
      "source": [
        "c = 0\n",
        "for i in range(3):\n",
        "  if i<2:\n",
        "    replace_line(os.getcwd()+'/'+filelist[0], c, '')\n",
        "  else:\n",
        "    replace_line(os.getcwd()+'/'+filelist[0], c+1, '')"
      ],
      "metadata": {
        "id": "thq0Boo0foil"
      },
      "execution_count": null,
      "outputs": []
    },
    {
      "cell_type": "markdown",
      "source": [
        "# Organic"
      ],
      "metadata": {
        "id": "M2g3-xD8ddUW"
      }
    },
    {
      "cell_type": "markdown",
      "source": [
        "## Nitrate"
      ],
      "metadata": {
        "id": "KwOGINPgfvhR"
      }
    },
    {
      "cell_type": "code",
      "source": [
        "os.chdir('/content/drive/MyDrive/M_W_CSV/M_W_Organic/Nitrate')\n",
        "filelist = os.listdir()\n",
        "print(filelist)\n",
        "os.getcwd()+filelist[0]"
      ],
      "metadata": {
        "colab": {
          "base_uri": "https://localhost:8080/",
          "height": 73
        },
        "outputId": "38536b88-29e0-4d2e-d588-efa5d58d8ac2",
        "id": "VSGwICb1fz0_"
      },
      "execution_count": 22,
      "outputs": [
        {
          "output_type": "stream",
          "name": "stdout",
          "text": [
            "['Maize Wheat_Org.csv', 'Maize Wheat_Org1.csv', 'Maize Wheat_Org2.csv', 'Maize Wheat_Org3.csv', 'Maize Wheat_Org5.csv', 'Maize Wheat_Org4.csv', 'Maize Wheat_Org6.csv', 'Maize Wheat_Org7.csv', 'Maize Wheat_Org9.csv', 'Maize Wheat_Org8.csv', 'Maize Wheat_Org11.csv', 'Maize Wheat_Org10.csv', 'Maize Wheat_Org13.csv', 'Maize Wheat_Org12.csv', 'Maize Wheat_Org14.csv', 'Maize Wheat_Org15.csv', 'Maize Wheat_Org16.csv', 'Maize Wheat_Org17.csv', 'Maize Wheat_Org18.csv', 'Maize Wheat_Org19.csv', 'Maize Wheat_Org20.csv', 'Maize Wheat_Org21.csv', 'Maize Wheat_Org22.csv', 'Maize Wheat_Org23.csv', 'Maize Wheat_Org25.csv', 'Maize Wheat_Org24.csv', 'Maize Wheat_Org26.csv', 'Maize Wheat_Org27.csv', 'Maize Wheat_Org28.csv', 'Maize Wheat_Org30.csv', 'Maize Wheat_Org29.csv', 'Maize Wheat_Org32.csv', 'Maize Wheat_Org31.csv', 'Maize Wheat_Org33.csv', 'Maize Wheat_Org34.csv', 'Maize Wheat_Org35.csv', 'Maize Wheat_Org36.csv', 'Maize Wheat_Org37.csv', 'Maize Wheat_Org38.csv', 'Maize Wheat_Org39.csv', 'Maize Wheat_Org40.csv', 'Maize Wheat_Org41.csv', 'Maize Wheat_Org43.csv', 'Maize Wheat_Org42.csv', 'Maize Wheat_Org44.csv', 'Maize Wheat_Org45.csv', 'Maize Wheat_Org46.csv', 'Maize Wheat_Org47.csv', 'Maize Wheat_Org48.csv', 'Maize Wheat_Org50.csv', 'Maize Wheat_Org49.csv', 'Maize Wheat_Org51.csv', 'Maize Wheat_Org52.csv', 'Maize Wheat_Org53.csv', 'Maize Wheat_Org55.csv', 'Maize Wheat_Org54.csv', 'Maize Wheat_Org56.csv', 'Maize Wheat_Org57.csv', 'Maize Wheat_Org58.csv', 'Maize Wheat_Org59.csv', 'Maize Wheat_Org60.csv', 'Maize Wheat_Org61.csv', 'Maize Wheat_Org62.csv', 'Maize Wheat_Org63.csv', 'Maize Wheat_Org64.csv', 'Maize Wheat_Org65.csv', 'Maize Wheat_Org66.csv', 'Maize Wheat_Org67.csv', 'Maize Wheat_Org69.csv', 'Maize Wheat_Org68.csv', 'Maize Wheat_Org71.csv', 'Maize Wheat_Org70.csv', 'Maize Wheat_Org72.csv', 'Maize Wheat_Org73.csv', 'Maize Wheat_Org74.csv', 'Maize Wheat_Org76.csv', 'Maize Wheat_Org75.csv', 'Maize Wheat_Org77.csv', 'Maize Wheat_Org79.csv', 'Maize Wheat_Org78.csv', 'Maize Wheat_Org80.csv', 'Maize Wheat_Org82.csv', 'Maize Wheat_Org81.csv', 'Maize Wheat_Org83.csv', 'Maize Wheat_Org84.csv', 'Maize Wheat_Org86.csv', 'Maize Wheat_Org85.csv', 'Maize Wheat_Org87.csv', 'Maize Wheat_Org88.csv', 'Maize Wheat_Org89.csv', 'Maize Wheat_Org90.csv', 'Maize Wheat_Org92.csv', 'Maize Wheat_Org91.csv', 'Maize Wheat_Org93.csv', 'Maize Wheat_Org94.csv', 'Maize Wheat_Org95.csv', 'Maize Wheat_Org97.csv', 'Maize Wheat_Org96.csv', 'Maize Wheat_Org98.csv', 'Maize Wheat_Org99.csv']\n"
          ]
        },
        {
          "output_type": "execute_result",
          "data": {
            "text/plain": [
              "'/content/drive/MyDrive/M_W_CSV/M_W_Organic/NitrateMaize Wheat_Org.csv'"
            ],
            "application/vnd.google.colaboratory.intrinsic+json": {
              "type": "string"
            }
          },
          "metadata": {},
          "execution_count": 22
        }
      ]
    },
    {
      "cell_type": "code",
      "source": [
        "f = open(os.getcwd()+'/'+filelist[0], \"r\")\n",
        "print(f.read())"
      ],
      "metadata": {
        "id": "tjFXys8Jfz0_"
      },
      "execution_count": null,
      "outputs": []
    },
    {
      "cell_type": "code",
      "source": [
        "def replace_line(file_name, line_num, text):\n",
        "    lines = open(file_name, 'r').readlines()\n",
        "    lines[line_num] = text\n",
        "    out = open(file_name, 'w')\n",
        "    out.writelines(lines)\n",
        "    out.close()"
      ],
      "metadata": {
        "id": "vAk_rXvmfz0_"
      },
      "execution_count": null,
      "outputs": []
    },
    {
      "cell_type": "code",
      "source": [
        "c = 0\n",
        "for i in range(3):\n",
        "  if i<2:\n",
        "    replace_line(os.getcwd()+'/'+filelist[0], c, '')\n",
        "  else:\n",
        "    replace_line(os.getcwd()+'/'+filelist[0], c+1, '')"
      ],
      "metadata": {
        "id": "DawapmGkfz1A"
      },
      "execution_count": null,
      "outputs": []
    },
    {
      "cell_type": "markdown",
      "source": [
        "## Yield"
      ],
      "metadata": {
        "id": "YDI7OiMxfwwi"
      }
    },
    {
      "cell_type": "code",
      "source": [
        "os.chdir('/content/drive/MyDrive/M_W_CSV/M_W_Organic/Yield')\n",
        "filelist = os.listdir()\n",
        "print(filelist)\n",
        "os.getcwd()+filelist[0]"
      ],
      "metadata": {
        "colab": {
          "base_uri": "https://localhost:8080/",
          "height": 73
        },
        "outputId": "91ac5559-65c6-4c2a-af92-9d3edf88baa4",
        "id": "tXV620Gxf2Qq"
      },
      "execution_count": 23,
      "outputs": [
        {
          "output_type": "stream",
          "name": "stdout",
          "text": [
            "['Maize Wheat_Org.csv', 'Maize Wheat_Org1.csv', 'Maize Wheat_Org2.csv', 'Maize Wheat_Org3.csv', 'Maize Wheat_Org4.csv', 'Maize Wheat_Org5.csv', 'Maize Wheat_Org7.csv', 'Maize Wheat_Org8.csv', 'Maize Wheat_Org9.csv', 'Maize Wheat_Org10.csv', 'Maize Wheat_Org11.csv', 'Maize Wheat_Org12.csv', 'Maize Wheat_Org13.csv', 'Maize Wheat_Org14.csv', 'Maize Wheat_Org15.csv', 'Maize Wheat_Org16.csv', 'Maize Wheat_Org17.csv', 'Maize Wheat_Org18.csv', 'Maize Wheat_Org19.csv', 'Maize Wheat_Org20.csv', 'Maize Wheat_Org21.csv', 'Maize Wheat_Org22.csv', 'Maize Wheat_Org23.csv', 'Maize Wheat_Org24.csv', 'Maize Wheat_Org25.csv', 'Maize Wheat_Org26.csv', 'Maize Wheat_Org28.csv', 'Maize Wheat_Org27.csv', 'Maize Wheat_Org29.csv', 'Maize Wheat_Org30.csv', 'Maize Wheat_Org33.csv', 'Maize Wheat_Org31.csv', 'Maize Wheat_Org32.csv', 'Maize Wheat_Org34.csv', 'Maize Wheat_Org35.csv', 'Maize Wheat_Org37.csv', 'Maize Wheat_Org36.csv', 'Maize Wheat_Org38.csv', 'Maize Wheat_Org39.csv', 'Maize Wheat_Org40.csv', 'Maize Wheat_Org41.csv', 'Maize Wheat_Org42.csv', 'Maize Wheat_Org43.csv', 'Maize Wheat_Org44.csv', 'Maize Wheat_Org47.csv', 'Maize Wheat_Org46.csv', 'Maize Wheat_Org45.csv', 'Maize Wheat_Org50.csv', 'Maize Wheat_Org48.csv', 'Maize Wheat_Org49.csv', 'Maize Wheat_Org62.csv', 'Maize Wheat_Org61.csv', 'Maize Wheat_Org65.csv', 'Maize Wheat_Org71.csv', 'Maize Wheat_Org52.csv', 'Maize Wheat_Org58.csv', 'Maize Wheat_Org59.csv', 'Maize Wheat_Org70.csv', 'Maize Wheat_Org73.csv', 'Maize Wheat_Org63.csv', 'Maize Wheat_Org67.csv', 'Maize Wheat_Org72.csv', 'Maize Wheat_Org56.csv', 'Maize Wheat_Org76.csv', 'Maize Wheat_Org60.csv', 'Maize Wheat_Org54.csv', 'Maize Wheat_Org77.csv', 'Maize Wheat_Org74.csv', 'Maize Wheat_Org51.csv', 'Maize Wheat_Org57.csv', 'Maize Wheat_Org68.csv', 'Maize Wheat_Org64.csv', 'Maize Wheat_Org69.csv', 'Maize Wheat_Org55.csv', 'Maize Wheat_Org66.csv', 'Maize Wheat_Org75.csv', 'Maize Wheat_Org53.csv', 'Maize Wheat_Org92.csv', 'Maize Wheat_Org80.csv', 'Maize Wheat_Org97.csv', 'Maize Wheat_Org81.csv', 'Maize Wheat_Org83.csv', 'Maize Wheat_Org78.csv', 'Maize Wheat_Org89.csv', 'Maize Wheat_Org90.csv', 'Maize Wheat_Org88.csv', 'Maize Wheat_Org86.csv', 'Maize Wheat_Org96.csv', 'Maize Wheat_Org95.csv', 'Maize Wheat_Org84.csv', 'Maize Wheat_Org99.csv', 'Maize Wheat_Org82.csv', 'Maize Wheat_Org79.csv', 'Maize Wheat_Org91.csv', 'Maize Wheat_Org98.csv', 'Maize Wheat_Org93.csv', 'Maize Wheat_Org85.csv', 'Maize Wheat_Org94.csv', 'Maize Wheat_Org87.csv', 'Maize Wheat_Org6.csv']\n"
          ]
        },
        {
          "output_type": "execute_result",
          "data": {
            "text/plain": [
              "'/content/drive/MyDrive/M_W_CSV/M_W_Organic/YieldMaize Wheat_Org.csv'"
            ],
            "application/vnd.google.colaboratory.intrinsic+json": {
              "type": "string"
            }
          },
          "metadata": {},
          "execution_count": 23
        }
      ]
    },
    {
      "cell_type": "code",
      "source": [
        "f = open(os.getcwd()+'/'+filelist[0], \"r\")\n",
        "print(f.read())"
      ],
      "metadata": {
        "id": "rQftGj4Of2Qr"
      },
      "execution_count": null,
      "outputs": []
    },
    {
      "cell_type": "code",
      "source": [
        "def replace_line(file_name, line_num, text):\n",
        "    lines = open(file_name, 'r').readlines()\n",
        "    lines[line_num] = text\n",
        "    out = open(file_name, 'w')\n",
        "    out.writelines(lines)\n",
        "    out.close()"
      ],
      "metadata": {
        "id": "2I45fOLZf2Qr"
      },
      "execution_count": null,
      "outputs": []
    },
    {
      "cell_type": "code",
      "source": [
        "c = 0\n",
        "for i in range(3):\n",
        "  if i<2:\n",
        "    replace_line(os.getcwd()+'/'+filelist[0], c, '')\n",
        "  else:\n",
        "    replace_line(os.getcwd()+'/'+filelist[0], c+1, '')"
      ],
      "metadata": {
        "id": "N5cZItKQf2Qr"
      },
      "execution_count": null,
      "outputs": []
    }
  ]
}