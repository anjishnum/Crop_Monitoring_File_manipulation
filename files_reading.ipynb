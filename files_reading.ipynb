{
  "nbformat": 4,
  "nbformat_minor": 0,
  "metadata": {
    "colab": {
      "provenance": [],
      "toc_visible": true,
      "authorship_tag": "ABX9TyNJTzddRLd85lFB/sQhI/ZO",
      "include_colab_link": true
    },
    "kernelspec": {
      "name": "python3",
      "display_name": "Python 3"
    },
    "language_info": {
      "name": "python"
    }
  },
  "cells": [
    {
      "cell_type": "markdown",
      "metadata": {
        "id": "view-in-github",
        "colab_type": "text"
      },
      "source": [
        "<a href=\"https://colab.research.google.com/github/anjishnum/Crop_Monitoring_File_manipulation/blob/main/files_reading.ipynb\" target=\"_parent\"><img src=\"https://colab.research.google.com/assets/colab-badge.svg\" alt=\"Open In Colab\"/></a>"
      ]
    },
    {
      "cell_type": "code",
      "execution_count": null,
      "metadata": {
        "colab": {
          "base_uri": "https://localhost:8080/"
        },
        "id": "fwZPZm0g3GLE",
        "outputId": "2ab4f4db-e15e-4e44-952a-d84ecab701b9"
      },
      "outputs": [
        {
          "output_type": "stream",
          "name": "stdout",
          "text": [
            "Mounted at /content/drive/\n"
          ]
        }
      ],
      "source": [
        "from google.colab import drive\n",
        "drive.mount('/content/drive/')"
      ]
    },
    {
      "cell_type": "code",
      "source": [
        "import pandas as pd\n",
        "import numpy as np\n",
        "import csv\n",
        "import os\n",
        "import seaborn as sns\n",
        "import shutil\n",
        "import re"
      ],
      "metadata": {
        "id": "n_A-CeXT3Jtn"
      },
      "execution_count": null,
      "outputs": []
    },
    {
      "cell_type": "code",
      "source": [
        "def replace_line(file_name, line_num, text):\n",
        "  lines = open(file_name, 'r').readlines()\n",
        "  lines[line_num] = text\n",
        "  out = open(file_name, 'w')\n",
        "  out.writelines(lines)\n",
        "  out.close()"
      ],
      "metadata": {
        "id": "sAUYU8oqF1LJ"
      },
      "execution_count": null,
      "outputs": []
    },
    {
      "cell_type": "code",
      "source": [
        "def copy_files(filelist):\n",
        "  src = os.getcwd()+'/'\n",
        "  trg = os.getcwd()+'/newfiles/'\n",
        " \n",
        "  for filename in filelist:\n",
        "      \n",
        "    shutil.copy2(os.path.join(src,filename), trg)"
      ],
      "metadata": {
        "id": "Wq3-wUc8KWLa"
      },
      "execution_count": null,
      "outputs": []
    },
    {
      "cell_type": "markdown",
      "source": [
        "# 60%"
      ],
      "metadata": {
        "id": "qUgurzhQdOQd"
      }
    },
    {
      "cell_type": "markdown",
      "source": [
        "## Nitrate"
      ],
      "metadata": {
        "id": "tKDy1EHWebXq"
      }
    },
    {
      "cell_type": "code",
      "source": [
        "os.chdir('/content/drive/MyDrive/Copy_M_W_CSV/M_W_60%/Nitrate')\n",
        "try:\n",
        "  os.mkdir('newfiles')\n",
        "except FileExistsError:\n",
        "  pass\n",
        "\n",
        "filelist = sorted(os.listdir())"
      ],
      "metadata": {
        "id": "kbPN-5d3alU7"
      },
      "execution_count": null,
      "outputs": []
    },
    {
      "cell_type": "code",
      "source": [
        "copy_files(filelist[:-1:])"
      ],
      "metadata": {
        "id": "k69qwy9FMD4C"
      },
      "execution_count": null,
      "outputs": []
    },
    {
      "cell_type": "code",
      "source": [
        "os.chdir('/content/drive/MyDrive/Copy_M_W_CSV/M_W_60%/Nitrate/newfiles')\n",
        "filelist = sorted(os.listdir())\n",
        "\n",
        "for filename in filelist:\n",
        "\n",
        "  c = 0\n",
        "\n",
        "  for i in range(3):\n",
        "    if i<2:\n",
        "      replace_line(os.getcwd()+'/'+filename, c, '')\n",
        "    else:\n",
        "      replace_line(os.getcwd()+'/'+filename, c+1, '')\n",
        "\n",
        "  df = pd.read_csv(os.getcwd()+'/'+filename)\n",
        "\n",
        "  del df[df.columns[-1]]\n",
        "\n",
        "  df_new = pd.DataFrame()\n",
        "\n",
        "  for yr in range(1980,2010):\n",
        "    df_new['N'+str(yr)] = pd.Series(list(df[df['year']==yr].iloc[:,2]))\n",
        "\n",
        "  df_new.to_csv(os.getcwd()+'/'+filename,index=False)"
      ],
      "metadata": {
        "id": "PWmi1sku4nqm"
      },
      "execution_count": null,
      "outputs": []
    },
    {
      "cell_type": "markdown",
      "source": [
        "## Yield"
      ],
      "metadata": {
        "id": "R6xEZX0XIDC_"
      }
    },
    {
      "cell_type": "code",
      "source": [
        "os.chdir('/content/drive/MyDrive/Copy_M_W_CSV/M_W_60%/Yield')\n",
        "try:\n",
        "  os.mkdir('newfiles')\n",
        "except FileExistsError:\n",
        "  pass\n",
        "\n",
        "filelist = sorted(os.listdir())"
      ],
      "metadata": {
        "id": "A3xwYc9HORAy"
      },
      "execution_count": null,
      "outputs": []
    },
    {
      "cell_type": "code",
      "source": [
        "copy_files(filelist[:-1:])"
      ],
      "metadata": {
        "id": "x8pQdCDjORAy"
      },
      "execution_count": null,
      "outputs": []
    },
    {
      "cell_type": "code",
      "source": [
        "os.chdir('/content/drive/MyDrive/Copy_M_W_CSV/M_W_60%/Yield/newfiles')\n",
        "filelist = sorted(os.listdir())\n",
        "\n",
        "for filename in filelist:\n",
        "\n",
        "  c = 0\n",
        "\n",
        "  for i in range(3):\n",
        "    if i<2:\n",
        "      replace_line(os.getcwd()+'/'+filename, c, '')\n",
        "    else:\n",
        "      replace_line(os.getcwd()+'/'+filename, c+1, '')\n",
        "\n",
        "  df = pd.read_csv(os.getcwd()+'/'+filename)\n",
        "  \n",
        "  df_wheat = df.copy()\n",
        "  df_maize = df.copy()\n",
        "\n",
        "  # to get the columns for wheat\n",
        "  df_wheat = df_wheat.iloc[:,[0,1,3,5,6,7]]\n",
        "\n",
        "  # to get the years with wheat production\n",
        "  df_wheat = df_wheat.iloc[1::2]\n",
        "\n",
        "  # to get the columns for maize\n",
        "  df_maize = df_maize.iloc[:,[0,2,4,5,6,7]]\n",
        "\n",
        "  # to get the years with maize production\n",
        "  df_maize = df_maize.iloc[::2]\n",
        "\n",
        "  with pd.ExcelWriter(os.getcwd()+'/'+filename[:-4:]+'.xlsx') as writer:\n",
        "    df_wheat.to_excel(writer, sheet_name='Wheat', index=False)\n",
        "    df_maize.to_excel(writer, sheet_name='Maize', index=False)\n"
      ],
      "metadata": {
        "id": "jHSDjAM0ORAy"
      },
      "execution_count": null,
      "outputs": []
    },
    {
      "cell_type": "code",
      "source": [
        "for item in filelist:\n",
        "    if item.endswith(\".csv\"):\n",
        "        os.remove(os.path.join(os.getcwd(), item))"
      ],
      "metadata": {
        "id": "AB-klYCfUsGH"
      },
      "execution_count": null,
      "outputs": []
    },
    {
      "cell_type": "markdown",
      "source": [
        "# 100%"
      ],
      "metadata": {
        "id": "d6MGKD-0dWDv"
      }
    },
    {
      "cell_type": "markdown",
      "source": [
        "## Nitrate"
      ],
      "metadata": {
        "id": "eh3jiteafOIT"
      }
    },
    {
      "cell_type": "code",
      "source": [
        "os.chdir('/content/drive/MyDrive/Copy_M_W_CSV/M_W_100%/Nitrate')\n",
        "try:\n",
        "  os.mkdir('newfiles')\n",
        "except FileExistsError:\n",
        "  pass\n",
        "\n",
        "filelist = sorted(os.listdir())"
      ],
      "metadata": {
        "id": "r4vVajPNIVVc"
      },
      "execution_count": null,
      "outputs": []
    },
    {
      "cell_type": "code",
      "source": [
        "copy_files(filelist[:-1:])"
      ],
      "metadata": {
        "id": "79je1J9TIVVc"
      },
      "execution_count": null,
      "outputs": []
    },
    {
      "cell_type": "code",
      "source": [
        "os.chdir('/content/drive/MyDrive/Copy_M_W_CSV/M_W_100%/Nitrate/newfiles')\n",
        "filelist = sorted(os.listdir())\n",
        "\n",
        "for filename in filelist:\n",
        "\n",
        "  c = 0\n",
        "\n",
        "  for i in range(3):\n",
        "    if i<2:\n",
        "      replace_line(os.getcwd()+'/'+filename, c, '')\n",
        "    else:\n",
        "      replace_line(os.getcwd()+'/'+filename, c+1, '')\n",
        "\n",
        "  df = pd.read_csv(os.getcwd()+'/'+filename)\n",
        "\n",
        "  del df[df.columns[-1]]\n",
        "\n",
        "  df_new = pd.DataFrame()\n",
        "\n",
        "  for yr in range(1980,2010):\n",
        "    df_new['N'+str(yr)] = pd.Series(list(df[df['year']==yr].iloc[:,2]))\n",
        "\n",
        "  df_new.to_csv(os.getcwd()+'/'+filename,index=False)"
      ],
      "metadata": {
        "id": "BD05cPnBIVVd"
      },
      "execution_count": null,
      "outputs": []
    },
    {
      "cell_type": "markdown",
      "source": [
        "## Yield"
      ],
      "metadata": {
        "id": "eKUlxJ4tfQbt"
      }
    },
    {
      "cell_type": "code",
      "source": [
        "os.chdir('/content/drive/MyDrive/Copy_M_W_CSV/M_W_100%/Yield')\n",
        "try:\n",
        "  os.mkdir('newfiles')\n",
        "except FileExistsError:\n",
        "  pass\n",
        "\n",
        "filelist = sorted(os.listdir())"
      ],
      "metadata": {
        "id": "N-nQZMUEXtfK"
      },
      "execution_count": null,
      "outputs": []
    },
    {
      "cell_type": "code",
      "source": [
        "# Create a new list of files having size > 300 bytes, to then copy into the newfiles directory\n",
        "\n",
        "filelist_copy = []\n",
        "for filename in filelist[:-1:]:\n",
        "  if os.stat(filename).st_size > 300:\n",
        "    filelist_copy.append(filename)\n",
        "\n",
        "filelist = filelist_copy"
      ],
      "metadata": {
        "id": "UTDfXtQbfraD"
      },
      "execution_count": null,
      "outputs": []
    },
    {
      "cell_type": "code",
      "source": [
        "copy_files(filelist[::])"
      ],
      "metadata": {
        "id": "U586lqiYXtfL"
      },
      "execution_count": null,
      "outputs": []
    },
    {
      "cell_type": "code",
      "source": [
        "os.chdir('/content/drive/MyDrive/Copy_M_W_CSV/M_W_100%/Yield/newfiles')\n",
        "filelist = sorted(os.listdir())\n",
        "\n",
        "for filename in filelist:\n",
        "\n",
        "  c = 0\n",
        "\n",
        "  for i in range(3):\n",
        "    if i<2:\n",
        "      replace_line(os.getcwd()+'/'+filename, c, '')\n",
        "    else:\n",
        "      replace_line(os.getcwd()+'/'+filename, c+1, '')\n",
        "\n",
        "  df = pd.read_csv(os.getcwd()+'/'+filename)\n",
        "  \n",
        "  df_wheat = df.copy()\n",
        "  df_maize = df.copy()\n",
        "\n",
        "  # to get the columns for wheat\n",
        "  df_wheat = df_wheat.iloc[:,[0,1,3,5,6,7]]\n",
        "\n",
        "  # to get the years with wheat production\n",
        "  df_wheat = df_wheat.iloc[1::2]\n",
        "\n",
        "  # to get the columns for maize\n",
        "  df_maize = df_maize.iloc[:,[0,2,4,5,6,7]]\n",
        "\n",
        "  # to get the years with maize production\n",
        "  df_maize = df_maize.iloc[::2]\n",
        "\n",
        "  with pd.ExcelWriter(os.getcwd()+'/'+filename[:-4:]+'.xlsx') as writer:\n",
        "    df_wheat.to_excel(writer, sheet_name='Wheat', index=False)\n",
        "    df_maize.to_excel(writer, sheet_name='Maize', index=False)\n"
      ],
      "metadata": {
        "id": "lE9zbyWIXtfL"
      },
      "execution_count": null,
      "outputs": []
    },
    {
      "cell_type": "code",
      "source": [
        "for item in filelist:\n",
        "    if item.endswith(\".csv\"):\n",
        "        os.remove(os.path.join(os.getcwd(), item))"
      ],
      "metadata": {
        "id": "jbtuKQ7RXtfL"
      },
      "execution_count": null,
      "outputs": []
    },
    {
      "cell_type": "markdown",
      "source": [
        "# Integrated"
      ],
      "metadata": {
        "id": "0xA1Knt7db4T"
      }
    },
    {
      "cell_type": "markdown",
      "source": [
        "## Nitrate"
      ],
      "metadata": {
        "id": "J_gi-Uolfkp3"
      }
    },
    {
      "cell_type": "code",
      "source": [
        "os.chdir('/content/drive/MyDrive/Copy_M_W_CSV/M_W_Integrated/Nitrate')\n",
        "try:\n",
        "  os.mkdir('newfiles')\n",
        "except FileExistsError:\n",
        "  pass\n",
        "\n",
        "filelist = sorted(os.listdir())"
      ],
      "metadata": {
        "id": "bo5FMhgFJaQk"
      },
      "execution_count": null,
      "outputs": []
    },
    {
      "cell_type": "code",
      "source": [
        "copy_files(filelist[:-1:])"
      ],
      "metadata": {
        "id": "vrxLMHdNJaQk"
      },
      "execution_count": null,
      "outputs": []
    },
    {
      "cell_type": "code",
      "source": [
        "os.chdir('/content/drive/MyDrive/Copy_M_W_CSV/M_W_Integrated/Nitrate/newfiles')\n",
        "filelist = sorted(os.listdir())\n",
        "\n",
        "for filename in filelist:\n",
        "\n",
        "  c = 0\n",
        "\n",
        "  for i in range(3):\n",
        "    if i<2:\n",
        "      replace_line(os.getcwd()+'/'+filename, c, '')\n",
        "    else:\n",
        "      replace_line(os.getcwd()+'/'+filename, c+1, '')\n",
        "\n",
        "  df = pd.read_csv(os.getcwd()+'/'+filename)\n",
        "\n",
        "  del df[df.columns[-1]]\n",
        "\n",
        "  df_new = pd.DataFrame()\n",
        "\n",
        "  for yr in range(1980,2010):\n",
        "    df_new['N'+str(yr)] = pd.Series(list(df[df['year']==yr].iloc[:,2]))\n",
        "\n",
        "  df_new.to_csv(os.getcwd()+'/'+filename,index=False)"
      ],
      "metadata": {
        "id": "IWOkoFBcJaQk"
      },
      "execution_count": null,
      "outputs": []
    },
    {
      "cell_type": "markdown",
      "source": [
        "## Yield"
      ],
      "metadata": {
        "id": "KrUI9C7bfmtJ"
      }
    },
    {
      "cell_type": "code",
      "source": [
        "os.chdir('/content/drive/MyDrive/Copy_M_W_CSV/M_W_Integrated/Yield')\n",
        "try:\n",
        "  os.mkdir('newfiles')\n",
        "except FileExistsError:\n",
        "  pass\n",
        "\n",
        "filelist = sorted(os.listdir())"
      ],
      "metadata": {
        "id": "yr5NXTeYihhG"
      },
      "execution_count": null,
      "outputs": []
    },
    {
      "cell_type": "code",
      "source": [
        "# Create a new list of files having size > 300 bytes, to then copy into the newfiles directory\n",
        "\n",
        "filelist_copy = []\n",
        "for filename in filelist[:-1:]:\n",
        "  if os.stat(filename).st_size > 300:\n",
        "    filelist_copy.append(filename)\n",
        "\n",
        "filelist = filelist_copy"
      ],
      "metadata": {
        "id": "JQCqJfrIihhH"
      },
      "execution_count": null,
      "outputs": []
    },
    {
      "cell_type": "code",
      "source": [
        "copy_files(filelist[::])"
      ],
      "metadata": {
        "id": "K9Ffl8O1ihhH"
      },
      "execution_count": null,
      "outputs": []
    },
    {
      "cell_type": "code",
      "source": [
        "os.chdir('/content/drive/MyDrive/Copy_M_W_CSV/M_W_Integrated/Yield/newfiles')\n",
        "filelist = sorted(os.listdir())\n",
        "\n",
        "for filename in filelist:\n",
        "\n",
        "  c = 0\n",
        "\n",
        "  for i in range(3):\n",
        "    if i<2:\n",
        "      replace_line(os.getcwd()+'/'+filename, c, '')\n",
        "    else:\n",
        "      replace_line(os.getcwd()+'/'+filename, c+1, '')\n",
        "\n",
        "  df = pd.read_csv(os.getcwd()+'/'+filename)\n",
        "  \n",
        "  df_wheat = df.copy()\n",
        "  df_maize = df.copy()\n",
        "\n",
        "  # to get the columns for wheat\n",
        "  df_wheat = df_wheat.iloc[:,[0,1,3,5,6]]\n",
        "\n",
        "  # to get the years with wheat production\n",
        "  df_wheat = df_wheat.iloc[1::2]\n",
        "\n",
        "  # to get the columns for maize\n",
        "  df_maize = df_maize.iloc[:,[0,2,4,5,6]]\n",
        "\n",
        "  # to get the years with maize production\n",
        "  df_maize = df_maize.iloc[::2]\n",
        "\n",
        "  with pd.ExcelWriter(os.getcwd()+'/'+filename[:-4:]+'.xlsx') as writer:\n",
        "    df_wheat.to_excel(writer, sheet_name='Wheat', index=False)\n",
        "    df_maize.to_excel(writer, sheet_name='Maize', index=False)\n"
      ],
      "metadata": {
        "id": "dJWmCFM9ihhH"
      },
      "execution_count": null,
      "outputs": []
    },
    {
      "cell_type": "code",
      "source": [
        "for item in filelist:\n",
        "    if item.endswith(\".csv\"):\n",
        "        os.remove(os.path.join(os.getcwd(), item))"
      ],
      "metadata": {
        "id": "8V91uKsZihhH"
      },
      "execution_count": null,
      "outputs": []
    },
    {
      "cell_type": "markdown",
      "source": [
        "# Organic"
      ],
      "metadata": {
        "id": "M2g3-xD8ddUW"
      }
    },
    {
      "cell_type": "markdown",
      "source": [
        "## Nitrate"
      ],
      "metadata": {
        "id": "KwOGINPgfvhR"
      }
    },
    {
      "cell_type": "code",
      "source": [
        "os.chdir('/content/drive/MyDrive/Copy_M_W_CSV/M_W_Organic/Nitrate')\n",
        "try:\n",
        "  os.mkdir('newfiles')\n",
        "except FileExistsError:\n",
        "  pass\n",
        "\n",
        "filelist = sorted(os.listdir())"
      ],
      "metadata": {
        "id": "MxhBnSslJyf-"
      },
      "execution_count": null,
      "outputs": []
    },
    {
      "cell_type": "code",
      "source": [
        "copy_files(filelist[:-1:])"
      ],
      "metadata": {
        "id": "WkM-7J9XJyf_"
      },
      "execution_count": null,
      "outputs": []
    },
    {
      "cell_type": "code",
      "source": [
        "os.chdir('/content/drive/MyDrive/Copy_M_W_CSV/M_W_Organic/Nitrate/newfiles')\n",
        "filelist = sorted(os.listdir())\n",
        "\n",
        "for filename in filelist:\n",
        "\n",
        "  c = 0\n",
        "\n",
        "  for i in range(3):\n",
        "    if i<2:\n",
        "      replace_line(os.getcwd()+'/'+filename, c, '')\n",
        "    else:\n",
        "      replace_line(os.getcwd()+'/'+filename, c+1, '')\n",
        "\n",
        "  df = pd.read_csv(os.getcwd()+'/'+filename)\n",
        "\n",
        "  del df[df.columns[-1]]\n",
        "\n",
        "  df_new = pd.DataFrame()\n",
        "\n",
        "  for yr in range(1980,2010):\n",
        "    df_new['N'+str(yr)] = pd.Series(list(df[df['year']==yr].iloc[:,2]))\n",
        "\n",
        "  df_new.to_csv(os.getcwd()+'/'+filename,index=False)"
      ],
      "metadata": {
        "id": "sTRvwR16Jyf_"
      },
      "execution_count": null,
      "outputs": []
    },
    {
      "cell_type": "markdown",
      "source": [
        "## Yield"
      ],
      "metadata": {
        "id": "YDI7OiMxfwwi"
      }
    },
    {
      "cell_type": "code",
      "source": [
        "os.chdir('/content/drive/MyDrive/Copy_M_W_CSV/M_W_Organic/Yield')\n",
        "try:\n",
        "  os.mkdir('newfiles')\n",
        "except FileExistsError:\n",
        "  pass\n",
        "\n",
        "filelist = sorted(os.listdir())"
      ],
      "metadata": {
        "id": "0Za8ndIBrBBn"
      },
      "execution_count": null,
      "outputs": []
    },
    {
      "cell_type": "code",
      "source": [
        "# Create a new list of files having size > 300 bytes, to then copy into the newfiles directory\n",
        "\n",
        "filelist_copy = []\n",
        "for filename in filelist[:-1:]:\n",
        "  if os.stat(filename).st_size > 300:\n",
        "    filelist_copy.append(filename)\n",
        "\n",
        "filelist = filelist_copy"
      ],
      "metadata": {
        "id": "Nr2YL8lsrBBo"
      },
      "execution_count": null,
      "outputs": []
    },
    {
      "cell_type": "code",
      "source": [
        "copy_files(filelist[::])"
      ],
      "metadata": {
        "id": "5UuoZdcArBBo"
      },
      "execution_count": null,
      "outputs": []
    },
    {
      "cell_type": "code",
      "source": [
        "os.chdir('/content/drive/MyDrive/Copy_M_W_CSV/M_W_Organic/Yield/newfiles')\n",
        "filelist = sorted(os.listdir())\n",
        "\n",
        "for filename in filelist:\n",
        "\n",
        "  c = 0\n",
        "\n",
        "  for i in range(3):\n",
        "    if i<2:\n",
        "      replace_line(os.getcwd()+'/'+filename, c, '')\n",
        "    else:\n",
        "      replace_line(os.getcwd()+'/'+filename, c+1, '')\n",
        "\n",
        "  df = pd.read_csv(os.getcwd()+'/'+filename)\n",
        "  \n",
        "  df_wheat = df.copy()\n",
        "  df_maize = df.copy()\n",
        "\n",
        "  # to get the columns for wheat\n",
        "  df_wheat = df_wheat.iloc[:,[0,1,3,5,6]]\n",
        "\n",
        "  # to get the years with wheat production\n",
        "  df_wheat = df_wheat.iloc[1::2]\n",
        "\n",
        "  # to get the columns for maize\n",
        "  df_maize = df_maize.iloc[:,[0,2,4,5,6]]\n",
        "\n",
        "  # to get the years with maize production\n",
        "  df_maize = df_maize.iloc[::2]\n",
        "\n",
        "  with pd.ExcelWriter(os.getcwd()+'/'+filename[:-4:]+'.xlsx') as writer:\n",
        "    df_wheat.to_excel(writer, sheet_name='Wheat', index=False)\n",
        "    df_maize.to_excel(writer, sheet_name='Maize', index=False)\n"
      ],
      "metadata": {
        "id": "wIRqk7k4rBBo"
      },
      "execution_count": null,
      "outputs": []
    },
    {
      "cell_type": "code",
      "source": [
        "for item in filelist:\n",
        "    if item.endswith(\".csv\"):\n",
        "        os.remove(os.path.join(os.getcwd(), item))"
      ],
      "metadata": {
        "id": "cU0qG7dGrBBo"
      },
      "execution_count": null,
      "outputs": []
    }
  ]
}